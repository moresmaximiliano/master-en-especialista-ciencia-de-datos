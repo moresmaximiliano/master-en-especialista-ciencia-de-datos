{
 "cells": [
  {
   "cell_type": "markdown",
   "metadata": {
    "colab_type": "text",
    "id": "s9c09HT319YI"
   },
   "source": [
    "<h1><font color=\"#113D68\" size=6>Deep Learning con Python y Keras</font></h1>\n",
    "\n",
    "<h1><font color=\"#113D68\" size=5>Parte 7. Conceptos avanzados</font></h1>\n",
    "\n",
    "<h1><font color=\"#113D68\" size=4>3. Herramientas para trabajar con redes neuronales</font></h1>\n",
    "\n",
    "<br><br>\n",
    "<div style=\"text-align: right\">\n",
    "<font color=\"#113D68\" size=3>Manuel Castillo Cara</font><br>\n",
    "\n",
    "</div>"
   ]
  },
  {
   "cell_type": "markdown",
   "metadata": {
    "colab_type": "text",
    "id": "9B3NIZjT19YM"
   },
   "source": [
    "---\n",
    "\n",
    "<a id=\"indice\"></a>\n",
    "<h2><font color=\"#004D7F\" size=5>Índice</font></h2>\n",
    "\n",
    "* [1. Carga y almacenamiento de modelos y pesos](#section1)\n",
    "    * [1.1. Almacenamiento del modelo](#section11)\n",
    "    * [1.2. Carga del modelo](#section12)\n",
    "    * [1.3. Almacenamiento de los pesos](#section13)\n",
    "    * [1.4. Carga de los pesos](#section14)\n",
    "* [2. Callbacks y Checkpoints](#section2)\n",
    "    * [2.1. Early Stopping](#section21)\n",
    "    * [2.2. Checkpoint](#section22)\n",
    "* [3. TensorBoard](#section3)\n",
    "    * [3.1. Instalación](#section31)\n",
    "    * [3.2. Cargamos Tensorboard](#section32)"
   ]
  },
  {
   "cell_type": "code",
   "execution_count": 4,
   "metadata": {
    "colab": {
     "base_uri": "https://localhost:8080/",
     "height": 34
    },
    "colab_type": "code",
    "executionInfo": {
     "elapsed": 2089,
     "status": "ok",
     "timestamp": 1554708982450,
     "user": {
      "displayName": "Fernando Rubio",
      "photoUrl": "",
      "userId": "13613469116164460032"
     },
     "user_tz": -120
    },
    "id": "-oOwjC2V19YP",
    "outputId": "af8a112f-f9d5-47da-ce5a-151c699a8397"
   },
   "outputs": [],
   "source": [
    "import os\n",
    "import numpy as np\n",
    "import pandas as pd\n",
    "import tensorflow as tf\n",
    "import matplotlib.pyplot as plt\n",
    "import skimage\n",
    "import keras\n",
    "\n",
    "%matplotlib inline\n",
    "\n",
    "# for auto-reloading external modules\n",
    "# see http://stackoverflow.com/questions/1907993/autoreload-of-modules-in-ipython\n",
    "%load_ext autoreload\n",
    "%autoreload 2\n",
    "\n",
    "# Establecemos una semilla para numpy y tensorflow para poder reproducir la ejecución y los resultados\n",
    "SEED = 1000\n",
    "np.random.seed(SEED)\n",
    "tf.random.set_seed(SEED)"
   ]
  },
  {
   "cell_type": "markdown",
   "metadata": {
    "colab_type": "text",
    "id": "SxTm4FJa19YY"
   },
   "source": [
    "<a id=\"section1\"></a>\n",
    "# <font color=\"#004D7F\" size=6>1. Carga y almacenamiento de modelos y pesos</font>"
   ]
  },
  {
   "cell_type": "markdown",
   "metadata": {
    "colab_type": "text",
    "id": "SxTm4FJa19YY"
   },
   "source": [
    "Es muy importante ser capaz de almacenar aquellos modelos aprendidos y poder desplegarlos en otros equipos. Una vez hemos entrenado una red neuronal, deberemos ser capaces de poder almacenarla y cargarla para poder utilizarla, por ejemplo, en producción o en dispositivos incapaces de llevar a cabo el entrenamiento, pero si la evaluación. Otro uso puede ser el llevar a cabo un proceso posterior de *finetuning* conforme aumenten el número de imágenes disponibles.\n",
    "\n",
    "Vamos a ver las diferentes formas que tiene Keras de guardar y cargar los modelos. Lo primero es que Keras separa los pesos de la estructura del modelo, por eso primero veremos como almacenar la estructura de una red y luego los pesos aprendidos."
   ]
  },
  {
   "cell_type": "code",
   "execution_count": 2,
   "metadata": {
    "colab": {
     "base_uri": "https://localhost:8080/",
     "height": 89
    },
    "colab_type": "code",
    "executionInfo": {
     "elapsed": 1442,
     "status": "ok",
     "timestamp": 1554709096756,
     "user": {
      "displayName": "Fernando Rubio",
      "photoUrl": "",
      "userId": "13613469116164460032"
     },
     "user_tz": -120
    },
    "id": "G3BRPrscXoc5",
    "outputId": "c122a3c6-4076-4ca9-a3af-4a73bf38f07e"
   },
   "outputs": [
    {
     "name": "stderr",
     "output_type": "stream",
     "text": [
      "C:\\ProgramData\\anaconda3\\Lib\\site-packages\\keras\\src\\layers\\core\\dense.py:87: UserWarning: Do not pass an `input_shape`/`input_dim` argument to a layer. When using Sequential models, prefer using an `Input(shape)` object as the first layer in the model instead.\n",
      "  super().__init__(activity_regularizer=activity_regularizer, **kwargs)\n"
     ]
    }
   ],
   "source": [
    "# Buscamos guardar nuestro modelo (Red neuronal entrenada) y poder cargar esos pesos y sesgos ya entrenados, para no volver a entrenar\n",
    "# Creamos una red basica\n",
    "\n",
    "from keras.models import Sequential\n",
    "from keras.layers import Dense, Activation\n",
    "\n",
    "model = Sequential()\n",
    "model.add(Dense(32, activation='relu', input_shape=(784,))) # Primera capa oculta de 32 neuronas\n",
    "model.add(Dense(32, activation='relu')) # Segunda capa oculta de 32 neuronas\n",
    "model.add(Dense(10, activation='softmax')) # Salida (10 clases, números de 0 a 9 a predecir)"
   ]
  },
  {
   "cell_type": "markdown",
   "metadata": {
    "colab_type": "text",
    "id": "phCkq9TZa7o5"
   },
   "source": [
    "<a id=\"section11\"></a>\n",
    "# <font color=\"#004D7F\" size=5>1.1. Almacenamiento del modelo</font>"
   ]
  },
  {
   "cell_type": "markdown",
   "metadata": {},
   "source": [
    "En este caso es guardar únicamente la estructura del modelo, pero no guarda los esos (que lo veremos posteriormente)"
   ]
  },
  {
   "cell_type": "code",
   "execution_count": 3,
   "metadata": {
    "colab": {
     "base_uri": "https://localhost:8080/",
     "height": 955
    },
    "colab_type": "code",
    "executionInfo": {
     "elapsed": 994,
     "status": "ok",
     "timestamp": 1554709113140,
     "user": {
      "displayName": "Fernando Rubio",
      "photoUrl": "",
      "userId": "13613469116164460032"
     },
     "user_tz": -120
    },
    "id": "2pVhuKY_X7U4",
    "outputId": "a4bfe5e1-f850-4697-c5c5-846bd2281140"
   },
   "outputs": [
    {
     "data": {
      "text/plain": [
       "{'name': 'sequential',\n",
       " 'trainable': True,\n",
       " 'dtype': 'float32',\n",
       " 'layers': [{'module': 'keras.layers',\n",
       "   'class_name': 'InputLayer',\n",
       "   'config': {'batch_shape': (None, 784),\n",
       "    'dtype': 'float32',\n",
       "    'sparse': False,\n",
       "    'name': 'input_layer'},\n",
       "   'registered_name': None},\n",
       "  {'module': 'keras.layers',\n",
       "   'class_name': 'Dense',\n",
       "   'config': {'name': 'dense',\n",
       "    'trainable': True,\n",
       "    'dtype': 'float32',\n",
       "    'units': 32,\n",
       "    'activation': 'relu',\n",
       "    'use_bias': True,\n",
       "    'kernel_initializer': {'module': 'keras.initializers',\n",
       "     'class_name': 'GlorotUniform',\n",
       "     'config': {'seed': None},\n",
       "     'registered_name': None},\n",
       "    'bias_initializer': {'module': 'keras.initializers',\n",
       "     'class_name': 'Zeros',\n",
       "     'config': {},\n",
       "     'registered_name': None},\n",
       "    'kernel_regularizer': None,\n",
       "    'bias_regularizer': None,\n",
       "    'kernel_constraint': None,\n",
       "    'bias_constraint': None},\n",
       "   'registered_name': None,\n",
       "   'build_config': {'input_shape': (None, 784)}},\n",
       "  {'module': 'keras.layers',\n",
       "   'class_name': 'Dense',\n",
       "   'config': {'name': 'dense_1',\n",
       "    'trainable': True,\n",
       "    'dtype': 'float32',\n",
       "    'units': 32,\n",
       "    'activation': 'relu',\n",
       "    'use_bias': True,\n",
       "    'kernel_initializer': {'module': 'keras.initializers',\n",
       "     'class_name': 'GlorotUniform',\n",
       "     'config': {'seed': None},\n",
       "     'registered_name': None},\n",
       "    'bias_initializer': {'module': 'keras.initializers',\n",
       "     'class_name': 'Zeros',\n",
       "     'config': {},\n",
       "     'registered_name': None},\n",
       "    'kernel_regularizer': None,\n",
       "    'bias_regularizer': None,\n",
       "    'kernel_constraint': None,\n",
       "    'bias_constraint': None},\n",
       "   'registered_name': None,\n",
       "   'build_config': {'input_shape': (None, 32)}},\n",
       "  {'module': 'keras.layers',\n",
       "   'class_name': 'Dense',\n",
       "   'config': {'name': 'dense_2',\n",
       "    'trainable': True,\n",
       "    'dtype': 'float32',\n",
       "    'units': 10,\n",
       "    'activation': 'softmax',\n",
       "    'use_bias': True,\n",
       "    'kernel_initializer': {'module': 'keras.initializers',\n",
       "     'class_name': 'GlorotUniform',\n",
       "     'config': {'seed': None},\n",
       "     'registered_name': None},\n",
       "    'bias_initializer': {'module': 'keras.initializers',\n",
       "     'class_name': 'Zeros',\n",
       "     'config': {},\n",
       "     'registered_name': None},\n",
       "    'kernel_regularizer': None,\n",
       "    'bias_regularizer': None,\n",
       "    'kernel_constraint': None,\n",
       "    'bias_constraint': None},\n",
       "   'registered_name': None,\n",
       "   'build_config': {'input_shape': (None, 32)}}],\n",
       " 'build_input_shape': (None, 784)}"
      ]
     },
     "execution_count": 3,
     "metadata": {},
     "output_type": "execute_result"
    }
   ],
   "source": [
    "# diccionario con la info (guardamos solo la estructura de la red, sin sus pesos)\n",
    "# Cada capa está entre {}\n",
    "model.get_config()"
   ]
  },
  {
   "cell_type": "code",
   "execution_count": 5,
   "metadata": {
    "colab": {
     "base_uri": "https://localhost:8080/",
     "height": 54
    },
    "colab_type": "code",
    "executionInfo": {
     "elapsed": 999,
     "status": "ok",
     "timestamp": 1554709138860,
     "user": {
      "displayName": "Fernando Rubio",
      "photoUrl": "",
      "userId": "13613469116164460032"
     },
     "user_tz": -120
    },
    "id": "MbPxlSs6YB_C",
    "outputId": "58c4882f-b76d-4827-9a25-315b75b4a9d6"
   },
   "outputs": [
    {
     "data": {
      "text/plain": [
       "'{\"module\": \"keras\", \"class_name\": \"Sequential\", \"config\": {\"name\": \"sequential\", \"trainable\": true, \"dtype\": \"float32\", \"layers\": [{\"module\": \"keras.layers\", \"class_name\": \"InputLayer\", \"config\": {\"batch_shape\": [null, 784], \"dtype\": \"float32\", \"sparse\": false, \"name\": \"input_layer\"}, \"registered_name\": null}, {\"module\": \"keras.layers\", \"class_name\": \"Dense\", \"config\": {\"name\": \"dense\", \"trainable\": true, \"dtype\": \"float32\", \"units\": 32, \"activation\": \"relu\", \"use_bias\": true, \"kernel_initializer\": {\"module\": \"keras.initializers\", \"class_name\": \"GlorotUniform\", \"config\": {\"seed\": null}, \"registered_name\": null}, \"bias_initializer\": {\"module\": \"keras.initializers\", \"class_name\": \"Zeros\", \"config\": {}, \"registered_name\": null}, \"kernel_regularizer\": null, \"bias_regularizer\": null, \"kernel_constraint\": null, \"bias_constraint\": null}, \"registered_name\": null, \"build_config\": {\"input_shape\": [null, 784]}}, {\"module\": \"keras.layers\", \"class_name\": \"Dense\", \"config\": {\"name\": \"dense_1\", \"trainable\": true, \"dtype\": \"float32\", \"units\": 32, \"activation\": \"relu\", \"use_bias\": true, \"kernel_initializer\": {\"module\": \"keras.initializers\", \"class_name\": \"GlorotUniform\", \"config\": {\"seed\": null}, \"registered_name\": null}, \"bias_initializer\": {\"module\": \"keras.initializers\", \"class_name\": \"Zeros\", \"config\": {}, \"registered_name\": null}, \"kernel_regularizer\": null, \"bias_regularizer\": null, \"kernel_constraint\": null, \"bias_constraint\": null}, \"registered_name\": null, \"build_config\": {\"input_shape\": [null, 32]}}, {\"module\": \"keras.layers\", \"class_name\": \"Dense\", \"config\": {\"name\": \"dense_2\", \"trainable\": true, \"dtype\": \"float32\", \"units\": 10, \"activation\": \"softmax\", \"use_bias\": true, \"kernel_initializer\": {\"module\": \"keras.initializers\", \"class_name\": \"GlorotUniform\", \"config\": {\"seed\": null}, \"registered_name\": null}, \"bias_initializer\": {\"module\": \"keras.initializers\", \"class_name\": \"Zeros\", \"config\": {}, \"registered_name\": null}, \"kernel_regularizer\": null, \"bias_regularizer\": null, \"kernel_constraint\": null, \"bias_constraint\": null}, \"registered_name\": null, \"build_config\": {\"input_shape\": [null, 32]}}], \"build_input_shape\": [null, 784]}, \"registered_name\": null, \"build_config\": {\"input_shape\": [null, 784]}}'"
      ]
     },
     "execution_count": 5,
     "metadata": {},
     "output_type": "execute_result"
    }
   ],
   "source": [
    "# Podemos obtener también esas propiedades de la red en formato json\n",
    "model.to_json()"
   ]
  },
  {
   "cell_type": "markdown",
   "metadata": {},
   "source": [
    "<div class=\"alert alert-block alert-info\">\n",
    "    \n",
    "<i class=\"fa fa-info-circle\" aria-hidden=\"true\"></i>\n",
    "**En la nueva versión de Keras se encuetra _deprecated_ YAML. Lo pongo comentado porque ya no funciona este bloque**"
   ]
  },
  {
   "cell_type": "code",
   "execution_count": 5,
   "metadata": {
    "colab": {
     "base_uri": "https://localhost:8080/",
     "height": 54
    },
    "colab_type": "code",
    "executionInfo": {
     "elapsed": 923,
     "status": "ok",
     "timestamp": 1554709146450,
     "user": {
      "displayName": "Fernando Rubio",
      "photoUrl": "",
      "userId": "13613469116164460032"
     },
     "user_tz": -120
    },
    "id": "PSSe8Bx5YF_1",
    "outputId": "67d40d64-22f4-4ea4-bb0e-47a439d547f4"
   },
   "outputs": [
    {
     "data": {
      "text/plain": [
       "'backend: tensorflow\\nclass_name: Sequential\\nconfig:\\n  layers:\\n  - class_name: InputLayer\\n    config:\\n      batch_input_shape: !!python/tuple\\n      - null\\n      - 784\\n      dtype: float32\\n      name: dense_input\\n      ragged: false\\n      sparse: false\\n  - class_name: Dense\\n    config:\\n      activation: relu\\n      activity_regularizer: null\\n      batch_input_shape: !!python/tuple\\n      - null\\n      - 784\\n      bias_constraint: null\\n      bias_initializer:\\n        class_name: Zeros\\n        config: {}\\n      bias_regularizer: null\\n      dtype: float32\\n      kernel_constraint: null\\n      kernel_initializer:\\n        class_name: GlorotUniform\\n        config:\\n          seed: null\\n      kernel_regularizer: null\\n      name: dense\\n      trainable: true\\n      units: 32\\n      use_bias: true\\n  - class_name: Dense\\n    config:\\n      activation: relu\\n      activity_regularizer: null\\n      bias_constraint: null\\n      bias_initializer:\\n        class_name: Zeros\\n        config: {}\\n      bias_regularizer: null\\n      dtype: float32\\n      kernel_constraint: null\\n      kernel_initializer:\\n        class_name: GlorotUniform\\n        config:\\n          seed: null\\n      kernel_regularizer: null\\n      name: dense_1\\n      trainable: true\\n      units: 32\\n      use_bias: true\\n  - class_name: Dense\\n    config:\\n      activation: softmax\\n      activity_regularizer: null\\n      bias_constraint: null\\n      bias_initializer:\\n        class_name: Zeros\\n        config: {}\\n      bias_regularizer: null\\n      dtype: float32\\n      kernel_constraint: null\\n      kernel_initializer:\\n        class_name: GlorotUniform\\n        config:\\n          seed: null\\n      kernel_regularizer: null\\n      name: dense_2\\n      trainable: true\\n      units: 10\\n      use_bias: true\\n  name: sequential\\nkeras_version: 2.4.0\\n'"
      ]
     },
     "execution_count": 5,
     "metadata": {},
     "output_type": "execute_result"
    }
   ],
   "source": [
    "###############   NO EJECUTAR ESTE BLOQUE - YAML DEPRECATED #################\n",
    "# string para el yaml\n",
    "# model.to_yaml()"
   ]
  },
  {
   "cell_type": "markdown",
   "metadata": {},
   "source": [
    "Almacenamos el diccionario con NumPy"
   ]
  },
  {
   "cell_type": "code",
   "execution_count": 10,
   "metadata": {
    "colab": {},
    "colab_type": "code",
    "id": "7zXUCRseYJlX"
   },
   "outputs": [],
   "source": [
    "# Almacenamos cada elemento con Numpyy (el diccionario)\n",
    "np.save('model_dict.npy',model.get_config()) # le ponemos el nombre al archivo y guardamos la configuración de la estructura de la red en formato npy\n",
    "\n",
    "# Creamos el fichero para poder cargar y guardar la red en formato json y ymal\n",
    "f= open('model_json.json','w+') # guardamos solo la estructura del modelo en formato json\n",
    "f.write(model.to_json())\n",
    "f.close()\n",
    "\n",
    "###############   NO EJECUTAR ESTE BLOQUE - YAML DEPRECATED #################\n",
    "#f= open(\"model_yaml.yaml\",\"w+\")\n",
    "#f.write(model.to_yaml())\n",
    "#f.close()"
   ]
  },
  {
   "cell_type": "markdown",
   "metadata": {
    "colab_type": "text",
    "id": "phCkq9TZa7o5"
   },
   "source": [
    "<a id=\"section12\"></a>\n",
    "# <font color=\"#004D7F\" size=5>1.2. Carga del modelo</font>"
   ]
  },
  {
   "cell_type": "markdown",
   "metadata": {},
   "source": [
    "Primero cargamos el diccionario con la estructura del modelo"
   ]
  },
  {
   "cell_type": "code",
   "execution_count": 7,
   "metadata": {
    "colab": {
     "base_uri": "https://localhost:8080/",
     "height": 243
    },
    "colab_type": "code",
    "executionInfo": {
     "elapsed": 1533,
     "status": "ok",
     "timestamp": 1554709260779,
     "user": {
      "displayName": "Fernando Rubio",
      "photoUrl": "",
      "userId": "13613469116164460032"
     },
     "user_tz": -120
    },
    "id": "M0xM2ocGbBXR",
    "outputId": "31ab3f87-6311-4965-8f8e-62f7afa76ee4"
   },
   "outputs": [
    {
     "data": {
      "text/html": [
       "<pre style=\"white-space:pre;overflow-x:auto;line-height:normal;font-family:Menlo,'DejaVu Sans Mono',consolas,'Courier New',monospace\"><span style=\"font-weight: bold\">Model: \"sequential\"</span>\n",
       "</pre>\n"
      ],
      "text/plain": [
       "\u001b[1mModel: \"sequential\"\u001b[0m\n"
      ]
     },
     "metadata": {},
     "output_type": "display_data"
    },
    {
     "data": {
      "text/html": [
       "<pre style=\"white-space:pre;overflow-x:auto;line-height:normal;font-family:Menlo,'DejaVu Sans Mono',consolas,'Courier New',monospace\">┏━━━━━━━━━━━━━━━━━━━━━━━━━━━━━━━━━━━━━━┳━━━━━━━━━━━━━━━━━━━━━━━━━━━━━┳━━━━━━━━━━━━━━━━━┓\n",
       "┃<span style=\"font-weight: bold\"> Layer (type)                         </span>┃<span style=\"font-weight: bold\"> Output Shape                </span>┃<span style=\"font-weight: bold\">         Param # </span>┃\n",
       "┡━━━━━━━━━━━━━━━━━━━━━━━━━━━━━━━━━━━━━━╇━━━━━━━━━━━━━━━━━━━━━━━━━━━━━╇━━━━━━━━━━━━━━━━━┩\n",
       "│ dense (<span style=\"color: #0087ff; text-decoration-color: #0087ff\">Dense</span>)                        │ (<span style=\"color: #00d7ff; text-decoration-color: #00d7ff\">None</span>, <span style=\"color: #00af00; text-decoration-color: #00af00\">32</span>)                  │          <span style=\"color: #00af00; text-decoration-color: #00af00\">25,120</span> │\n",
       "├──────────────────────────────────────┼─────────────────────────────┼─────────────────┤\n",
       "│ dense_1 (<span style=\"color: #0087ff; text-decoration-color: #0087ff\">Dense</span>)                      │ (<span style=\"color: #00d7ff; text-decoration-color: #00d7ff\">None</span>, <span style=\"color: #00af00; text-decoration-color: #00af00\">32</span>)                  │           <span style=\"color: #00af00; text-decoration-color: #00af00\">1,056</span> │\n",
       "├──────────────────────────────────────┼─────────────────────────────┼─────────────────┤\n",
       "│ dense_2 (<span style=\"color: #0087ff; text-decoration-color: #0087ff\">Dense</span>)                      │ (<span style=\"color: #00d7ff; text-decoration-color: #00d7ff\">None</span>, <span style=\"color: #00af00; text-decoration-color: #00af00\">10</span>)                  │             <span style=\"color: #00af00; text-decoration-color: #00af00\">330</span> │\n",
       "└──────────────────────────────────────┴─────────────────────────────┴─────────────────┘\n",
       "</pre>\n"
      ],
      "text/plain": [
       "┏━━━━━━━━━━━━━━━━━━━━━━━━━━━━━━━━━━━━━━┳━━━━━━━━━━━━━━━━━━━━━━━━━━━━━┳━━━━━━━━━━━━━━━━━┓\n",
       "┃\u001b[1m \u001b[0m\u001b[1mLayer (type)                        \u001b[0m\u001b[1m \u001b[0m┃\u001b[1m \u001b[0m\u001b[1mOutput Shape               \u001b[0m\u001b[1m \u001b[0m┃\u001b[1m \u001b[0m\u001b[1m        Param #\u001b[0m\u001b[1m \u001b[0m┃\n",
       "┡━━━━━━━━━━━━━━━━━━━━━━━━━━━━━━━━━━━━━━╇━━━━━━━━━━━━━━━━━━━━━━━━━━━━━╇━━━━━━━━━━━━━━━━━┩\n",
       "│ dense (\u001b[38;5;33mDense\u001b[0m)                        │ (\u001b[38;5;45mNone\u001b[0m, \u001b[38;5;34m32\u001b[0m)                  │          \u001b[38;5;34m25,120\u001b[0m │\n",
       "├──────────────────────────────────────┼─────────────────────────────┼─────────────────┤\n",
       "│ dense_1 (\u001b[38;5;33mDense\u001b[0m)                      │ (\u001b[38;5;45mNone\u001b[0m, \u001b[38;5;34m32\u001b[0m)                  │           \u001b[38;5;34m1,056\u001b[0m │\n",
       "├──────────────────────────────────────┼─────────────────────────────┼─────────────────┤\n",
       "│ dense_2 (\u001b[38;5;33mDense\u001b[0m)                      │ (\u001b[38;5;45mNone\u001b[0m, \u001b[38;5;34m10\u001b[0m)                  │             \u001b[38;5;34m330\u001b[0m │\n",
       "└──────────────────────────────────────┴─────────────────────────────┴─────────────────┘\n"
      ]
     },
     "metadata": {},
     "output_type": "display_data"
    },
    {
     "data": {
      "text/html": [
       "<pre style=\"white-space:pre;overflow-x:auto;line-height:normal;font-family:Menlo,'DejaVu Sans Mono',consolas,'Courier New',monospace\"><span style=\"font-weight: bold\"> Total params: </span><span style=\"color: #00af00; text-decoration-color: #00af00\">26,506</span> (103.54 KB)\n",
       "</pre>\n"
      ],
      "text/plain": [
       "\u001b[1m Total params: \u001b[0m\u001b[38;5;34m26,506\u001b[0m (103.54 KB)\n"
      ]
     },
     "metadata": {},
     "output_type": "display_data"
    },
    {
     "data": {
      "text/html": [
       "<pre style=\"white-space:pre;overflow-x:auto;line-height:normal;font-family:Menlo,'DejaVu Sans Mono',consolas,'Courier New',monospace\"><span style=\"font-weight: bold\"> Trainable params: </span><span style=\"color: #00af00; text-decoration-color: #00af00\">26,506</span> (103.54 KB)\n",
       "</pre>\n"
      ],
      "text/plain": [
       "\u001b[1m Trainable params: \u001b[0m\u001b[38;5;34m26,506\u001b[0m (103.54 KB)\n"
      ]
     },
     "metadata": {},
     "output_type": "display_data"
    },
    {
     "data": {
      "text/html": [
       "<pre style=\"white-space:pre;overflow-x:auto;line-height:normal;font-family:Menlo,'DejaVu Sans Mono',consolas,'Courier New',monospace\"><span style=\"font-weight: bold\"> Non-trainable params: </span><span style=\"color: #00af00; text-decoration-color: #00af00\">0</span> (0.00 B)\n",
       "</pre>\n"
      ],
      "text/plain": [
       "\u001b[1m Non-trainable params: \u001b[0m\u001b[38;5;34m0\u001b[0m (0.00 B)\n"
      ]
     },
     "metadata": {},
     "output_type": "display_data"
    }
   ],
   "source": [
    "# Cargamos el modelo en formato numpy\n",
    "model_struct = np.load('model_dict.npy', allow_pickle=True).item()\n",
    "model2 = Sequential.from_config(model_struct)\n",
    "model2.summary()"
   ]
  },
  {
   "cell_type": "markdown",
   "metadata": {},
   "source": [
    "Cargamos el modelo en JSON"
   ]
  },
  {
   "cell_type": "code",
   "execution_count": 11,
   "metadata": {
    "colab": {
     "base_uri": "https://localhost:8080/",
     "height": 243
    },
    "colab_type": "code",
    "executionInfo": {
     "elapsed": 1443,
     "status": "ok",
     "timestamp": 1554709311589,
     "user": {
      "displayName": "Fernando Rubio",
      "photoUrl": "",
      "userId": "13613469116164460032"
     },
     "user_tz": -120
    },
    "id": "3MeS1WFEdILg",
    "outputId": "5d697178-2f2e-4f4b-cd65-a72ab12dc702",
    "scrolled": true
   },
   "outputs": [
    {
     "data": {
      "text/html": [
       "<pre style=\"white-space:pre;overflow-x:auto;line-height:normal;font-family:Menlo,'DejaVu Sans Mono',consolas,'Courier New',monospace\"><span style=\"font-weight: bold\">Model: \"sequential\"</span>\n",
       "</pre>\n"
      ],
      "text/plain": [
       "\u001b[1mModel: \"sequential\"\u001b[0m\n"
      ]
     },
     "metadata": {},
     "output_type": "display_data"
    },
    {
     "data": {
      "text/html": [
       "<pre style=\"white-space:pre;overflow-x:auto;line-height:normal;font-family:Menlo,'DejaVu Sans Mono',consolas,'Courier New',monospace\">┏━━━━━━━━━━━━━━━━━━━━━━━━━━━━━━━━━━━━━━┳━━━━━━━━━━━━━━━━━━━━━━━━━━━━━┳━━━━━━━━━━━━━━━━━┓\n",
       "┃<span style=\"font-weight: bold\"> Layer (type)                         </span>┃<span style=\"font-weight: bold\"> Output Shape                </span>┃<span style=\"font-weight: bold\">         Param # </span>┃\n",
       "┡━━━━━━━━━━━━━━━━━━━━━━━━━━━━━━━━━━━━━━╇━━━━━━━━━━━━━━━━━━━━━━━━━━━━━╇━━━━━━━━━━━━━━━━━┩\n",
       "│ dense (<span style=\"color: #0087ff; text-decoration-color: #0087ff\">Dense</span>)                        │ (<span style=\"color: #00d7ff; text-decoration-color: #00d7ff\">None</span>, <span style=\"color: #00af00; text-decoration-color: #00af00\">32</span>)                  │          <span style=\"color: #00af00; text-decoration-color: #00af00\">25,120</span> │\n",
       "├──────────────────────────────────────┼─────────────────────────────┼─────────────────┤\n",
       "│ dense_1 (<span style=\"color: #0087ff; text-decoration-color: #0087ff\">Dense</span>)                      │ (<span style=\"color: #00d7ff; text-decoration-color: #00d7ff\">None</span>, <span style=\"color: #00af00; text-decoration-color: #00af00\">32</span>)                  │           <span style=\"color: #00af00; text-decoration-color: #00af00\">1,056</span> │\n",
       "├──────────────────────────────────────┼─────────────────────────────┼─────────────────┤\n",
       "│ dense_2 (<span style=\"color: #0087ff; text-decoration-color: #0087ff\">Dense</span>)                      │ (<span style=\"color: #00d7ff; text-decoration-color: #00d7ff\">None</span>, <span style=\"color: #00af00; text-decoration-color: #00af00\">10</span>)                  │             <span style=\"color: #00af00; text-decoration-color: #00af00\">330</span> │\n",
       "└──────────────────────────────────────┴─────────────────────────────┴─────────────────┘\n",
       "</pre>\n"
      ],
      "text/plain": [
       "┏━━━━━━━━━━━━━━━━━━━━━━━━━━━━━━━━━━━━━━┳━━━━━━━━━━━━━━━━━━━━━━━━━━━━━┳━━━━━━━━━━━━━━━━━┓\n",
       "┃\u001b[1m \u001b[0m\u001b[1mLayer (type)                        \u001b[0m\u001b[1m \u001b[0m┃\u001b[1m \u001b[0m\u001b[1mOutput Shape               \u001b[0m\u001b[1m \u001b[0m┃\u001b[1m \u001b[0m\u001b[1m        Param #\u001b[0m\u001b[1m \u001b[0m┃\n",
       "┡━━━━━━━━━━━━━━━━━━━━━━━━━━━━━━━━━━━━━━╇━━━━━━━━━━━━━━━━━━━━━━━━━━━━━╇━━━━━━━━━━━━━━━━━┩\n",
       "│ dense (\u001b[38;5;33mDense\u001b[0m)                        │ (\u001b[38;5;45mNone\u001b[0m, \u001b[38;5;34m32\u001b[0m)                  │          \u001b[38;5;34m25,120\u001b[0m │\n",
       "├──────────────────────────────────────┼─────────────────────────────┼─────────────────┤\n",
       "│ dense_1 (\u001b[38;5;33mDense\u001b[0m)                      │ (\u001b[38;5;45mNone\u001b[0m, \u001b[38;5;34m32\u001b[0m)                  │           \u001b[38;5;34m1,056\u001b[0m │\n",
       "├──────────────────────────────────────┼─────────────────────────────┼─────────────────┤\n",
       "│ dense_2 (\u001b[38;5;33mDense\u001b[0m)                      │ (\u001b[38;5;45mNone\u001b[0m, \u001b[38;5;34m10\u001b[0m)                  │             \u001b[38;5;34m330\u001b[0m │\n",
       "└──────────────────────────────────────┴─────────────────────────────┴─────────────────┘\n"
      ]
     },
     "metadata": {},
     "output_type": "display_data"
    },
    {
     "data": {
      "text/html": [
       "<pre style=\"white-space:pre;overflow-x:auto;line-height:normal;font-family:Menlo,'DejaVu Sans Mono',consolas,'Courier New',monospace\"><span style=\"font-weight: bold\"> Total params: </span><span style=\"color: #00af00; text-decoration-color: #00af00\">26,506</span> (103.54 KB)\n",
       "</pre>\n"
      ],
      "text/plain": [
       "\u001b[1m Total params: \u001b[0m\u001b[38;5;34m26,506\u001b[0m (103.54 KB)\n"
      ]
     },
     "metadata": {},
     "output_type": "display_data"
    },
    {
     "data": {
      "text/html": [
       "<pre style=\"white-space:pre;overflow-x:auto;line-height:normal;font-family:Menlo,'DejaVu Sans Mono',consolas,'Courier New',monospace\"><span style=\"font-weight: bold\"> Trainable params: </span><span style=\"color: #00af00; text-decoration-color: #00af00\">26,506</span> (103.54 KB)\n",
       "</pre>\n"
      ],
      "text/plain": [
       "\u001b[1m Trainable params: \u001b[0m\u001b[38;5;34m26,506\u001b[0m (103.54 KB)\n"
      ]
     },
     "metadata": {},
     "output_type": "display_data"
    },
    {
     "data": {
      "text/html": [
       "<pre style=\"white-space:pre;overflow-x:auto;line-height:normal;font-family:Menlo,'DejaVu Sans Mono',consolas,'Courier New',monospace\"><span style=\"font-weight: bold\"> Non-trainable params: </span><span style=\"color: #00af00; text-decoration-color: #00af00\">0</span> (0.00 B)\n",
       "</pre>\n"
      ],
      "text/plain": [
       "\u001b[1m Non-trainable params: \u001b[0m\u001b[38;5;34m0\u001b[0m (0.00 B)\n"
      ]
     },
     "metadata": {},
     "output_type": "display_data"
    }
   ],
   "source": [
    "# Cargamos el modelo en formato json\n",
    "from keras.models import model_from_json\n",
    "\n",
    "model2 = model_from_json(open('model_json.json','rb').read()) # lo ponemos en modo lectura binaria\n",
    "model2.summary()\n",
    "\n",
    "# Vemos que los datos todavía estan sin entrenar "
   ]
  },
  {
   "cell_type": "markdown",
   "metadata": {},
   "source": [
    "Cargamos el modelo en YAML"
   ]
  },
  {
   "cell_type": "code",
   "execution_count": 9,
   "metadata": {
    "colab": {
     "base_uri": "https://localhost:8080/",
     "height": 243
    },
    "colab_type": "code",
    "executionInfo": {
     "elapsed": 905,
     "status": "ok",
     "timestamp": 1554709316107,
     "user": {
      "displayName": "Fernando Rubio",
      "photoUrl": "",
      "userId": "13613469116164460032"
     },
     "user_tz": -120
    },
    "id": "dX3VRSIQdpDB",
    "outputId": "29037186-9501-4c9b-acf4-e1726c1fdd76"
   },
   "outputs": [
    {
     "name": "stdout",
     "output_type": "stream",
     "text": [
      "Model: \"sequential\"\n",
      "_________________________________________________________________\n",
      "Layer (type)                 Output Shape              Param #   \n",
      "=================================================================\n",
      "dense (Dense)                (None, 32)                25120     \n",
      "_________________________________________________________________\n",
      "dense_1 (Dense)              (None, 32)                1056      \n",
      "_________________________________________________________________\n",
      "dense_2 (Dense)              (None, 10)                330       \n",
      "=================================================================\n",
      "Total params: 26,506\n",
      "Trainable params: 26,506\n",
      "Non-trainable params: 0\n",
      "_________________________________________________________________\n"
     ]
    }
   ],
   "source": [
    "###############   NO EJECUTAR ESTE BLOQUE - YAML DEPRECATED #################\n",
    "#from keras.models import model_from_yaml\n",
    "\n",
    "#model2 = model_from_yaml(open(\"model_json.json\",\"rb\").read())\n",
    "#model2.summary()"
   ]
  },
  {
   "cell_type": "markdown",
   "metadata": {
    "colab_type": "text",
    "id": "phCkq9TZa7o5"
   },
   "source": [
    "<a id=\"section13\"></a>\n",
    "# <font color=\"#004D7F\" size=5>1.3. Almacenamiento de los pesos</font>"
   ]
  },
  {
   "cell_type": "markdown",
   "metadata": {
    "colab_type": "text",
    "id": "O_z20Sv4d6am"
   },
   "source": [
    "Ya podríamos almacenar los pesos, pero como estos son por defecto, vamos a entrenar rápidamente una red para el problema de MNIST."
   ]
  },
  {
   "cell_type": "code",
   "execution_count": 6,
   "metadata": {
    "colab": {
     "base_uri": "https://localhost:8080/",
     "height": 191
    },
    "colab_type": "code",
    "executionInfo": {
     "elapsed": 4383,
     "status": "ok",
     "timestamp": 1554709417504,
     "user": {
      "displayName": "Fernando Rubio",
      "photoUrl": "",
      "userId": "13613469116164460032"
     },
     "user_tz": -120
    },
    "id": "_dru1H5yeSvu",
    "outputId": "625986b0-e653-4a13-9515-d47ff03e5e2c"
   },
   "outputs": [
    {
     "name": "stdout",
     "output_type": "stream",
     "text": [
      "Dimensiones del conjunto de características de train aplanadas: (54000, 784)\n",
      "Dimensiones del conjunto de etiquetas de train en one hot: (54000, 10)\n",
      "\n",
      "Dimensiones del conjunto de características de train aplanadas: (6000, 784)\n",
      "Dimensiones del conjunto de etiquetas de train en one hot: (6000, 10)\n",
      "\n",
      "Dimensiones del conjunto de características de test aplanadas: (10000, 784)\n",
      "Dimensiones del conjunto de etiquetas de test en one hot: (10000, 10)\n"
     ]
    }
   ],
   "source": [
    "# Si queremos almacenar el modelo en conjunto con los pesos correspondientes luego de entrenarlo, hacemos lo siguiente\n",
    "\n",
    "# Primero entrenamos rápidamente a la red\n",
    "from keras.datasets import mnist\n",
    "from sklearn.model_selection import train_test_split\n",
    "\n",
    "# cargamos la DB\n",
    "(x_train_valid, y_train_valid), (x_test, y_test) = mnist.load_data()\n",
    "\n",
    "# dividimos en train/valid, estando test ya identificada\n",
    "x_train, x_valid, y_train, y_valid = train_test_split(\n",
    "    x_train_valid, y_train_valid, test_size=0.1, random_state=SEED, stratify=y_train_valid)\n",
    "\n",
    "# preprocesamos los datos\n",
    "x_train = x_train.astype('float32')\n",
    "x_train /= 255\n",
    "x_train = x_train.reshape(x_train.shape[0],-1)\n",
    "y_train = keras.utils.to_categorical(y_train, num_classes=10)\n",
    "print(\"Dimensiones del conjunto de características de train aplanadas: {}\".format(x_train.shape))\n",
    "print(\"Dimensiones del conjunto de etiquetas de train en one hot: {}\".format(y_train.shape))\n",
    "print()\n",
    "\n",
    "x_valid = x_valid.astype('float32')\n",
    "x_valid /= 255\n",
    "x_valid = x_valid.reshape(x_valid.shape[0],-1)\n",
    "y_valid = keras.utils.to_categorical(y_valid, num_classes=10)\n",
    "print(\"Dimensiones del conjunto de características de train aplanadas: {}\".format(x_valid.shape))\n",
    "print(\"Dimensiones del conjunto de etiquetas de train en one hot: {}\".format(y_valid.shape))\n",
    "print()\n",
    "\n",
    "\n",
    "x_test = x_test.astype('float32')\n",
    "x_test /= 255\n",
    "x_test = x_test.reshape(x_test.shape[0],-1)\n",
    "y_test = keras.utils.to_categorical(y_test, num_classes=10)\n",
    "print(\"Dimensiones del conjunto de características de test aplanadas: {}\".format(x_test.shape))\n",
    "print(\"Dimensiones del conjunto de etiquetas de test en one hot: {}\".format(y_test.shape))\n",
    "\n",
    "# Tenemos 54000 imágenes para entrenamiento, 6000 para validación y 10000 para testeo"
   ]
  },
  {
   "cell_type": "markdown",
   "metadata": {},
   "source": [
    "Compilamos el modelo con nuestro dataset anterior"
   ]
  },
  {
   "cell_type": "code",
   "execution_count": 13,
   "metadata": {
    "colab": {
     "base_uri": "https://localhost:8080/",
     "height": 454
    },
    "colab_type": "code",
    "executionInfo": {
     "elapsed": 20334,
     "status": "ok",
     "timestamp": 1554709464493,
     "user": {
      "displayName": "Fernando Rubio",
      "photoUrl": "",
      "userId": "13613469116164460032"
     },
     "user_tz": -120
    },
    "id": "rG7oS1fNd5_c",
    "outputId": "011839fc-00ef-4086-d53b-54ebed14a9a8"
   },
   "outputs": [
    {
     "name": "stdout",
     "output_type": "stream",
     "text": [
      "Epoch 1/10\n",
      "\u001b[1m422/422\u001b[0m \u001b[32m━━━━━━━━━━━━━━━━━━━━\u001b[0m\u001b[37m\u001b[0m \u001b[1m1s\u001b[0m 2ms/step - loss: 2.0252 - val_loss: 0.9456\n",
      "Epoch 2/10\n",
      "\u001b[1m422/422\u001b[0m \u001b[32m━━━━━━━━━━━━━━━━━━━━\u001b[0m\u001b[37m\u001b[0m \u001b[1m1s\u001b[0m 2ms/step - loss: 0.7794 - val_loss: 0.5377\n",
      "Epoch 3/10\n",
      "\u001b[1m422/422\u001b[0m \u001b[32m━━━━━━━━━━━━━━━━━━━━\u001b[0m\u001b[37m\u001b[0m \u001b[1m1s\u001b[0m 2ms/step - loss: 0.4931 - val_loss: 0.4388\n",
      "Epoch 4/10\n",
      "\u001b[1m422/422\u001b[0m \u001b[32m━━━━━━━━━━━━━━━━━━━━\u001b[0m\u001b[37m\u001b[0m \u001b[1m1s\u001b[0m 2ms/step - loss: 0.4100 - val_loss: 0.3932\n",
      "Epoch 5/10\n",
      "\u001b[1m422/422\u001b[0m \u001b[32m━━━━━━━━━━━━━━━━━━━━\u001b[0m\u001b[37m\u001b[0m \u001b[1m1s\u001b[0m 2ms/step - loss: 0.3689 - val_loss: 0.3664\n",
      "Epoch 6/10\n",
      "\u001b[1m422/422\u001b[0m \u001b[32m━━━━━━━━━━━━━━━━━━━━\u001b[0m\u001b[37m\u001b[0m \u001b[1m1s\u001b[0m 2ms/step - loss: 0.3435 - val_loss: 0.3473\n",
      "Epoch 7/10\n",
      "\u001b[1m422/422\u001b[0m \u001b[32m━━━━━━━━━━━━━━━━━━━━\u001b[0m\u001b[37m\u001b[0m \u001b[1m1s\u001b[0m 2ms/step - loss: 0.3250 - val_loss: 0.3323\n",
      "Epoch 8/10\n",
      "\u001b[1m422/422\u001b[0m \u001b[32m━━━━━━━━━━━━━━━━━━━━\u001b[0m\u001b[37m\u001b[0m \u001b[1m1s\u001b[0m 2ms/step - loss: 0.3105 - val_loss: 0.3200\n",
      "Epoch 9/10\n",
      "\u001b[1m422/422\u001b[0m \u001b[32m━━━━━━━━━━━━━━━━━━━━\u001b[0m\u001b[37m\u001b[0m \u001b[1m1s\u001b[0m 2ms/step - loss: 0.2985 - val_loss: 0.3094\n",
      "Epoch 10/10\n",
      "\u001b[1m422/422\u001b[0m \u001b[32m━━━━━━━━━━━━━━━━━━━━\u001b[0m\u001b[37m\u001b[0m \u001b[1m1s\u001b[0m 2ms/step - loss: 0.2881 - val_loss: 0.3001\n"
     ]
    }
   ],
   "source": [
    "# Entrenamos el modelo\n",
    "model.compile(loss='categorical_crossentropy', optimizer='sgd')\n",
    "\n",
    "history = model.fit(x_train, y_train, validation_data=(x_valid,y_valid), epochs=10, batch_size= 128) # ponemos 10 épocas asi se entrena rápido\n",
    "\n",
    "# Una vez entrenado ya tenemos los pesos y umbrales(sesgo) asignados por la compilación. El umbral es una forma de compensar la función de activación de la neurona o fijar un nivel mínimo de actividad de la neurona para considerarse como activa (regulariza el aprendizaje)"
   ]
  },
  {
   "cell_type": "markdown",
   "metadata": {},
   "source": [
    "Una vez compilado podemos obtener los pesos y los umbrales asignados de la compilación. Recordemos como es la unidad fundamental de una neurona donde podemos ver que además de los pesos, el proceso de compilación, asigna también unos valores relativos a los umbrales. En concreto los umbrales se definen como:\n",
    " + El **umbral,** el cual representa el grado de inhibición de la neurona, es un término constante que no depende del valor que tome la entrada. El umbral puede entenderse como una manera de compensar la función de activación, o una forma de fijar un nivel mínimo de actividad a la neurona para considerarse como activa. La suma ponderada de las entradas debe producir un valor mayor que $u$ para cambiar la neurona de estado 0 a 1. \n",
    " \n",
    "<img src=\"img/neurona.jpg\">\n",
    "\n",
    "\n",
    "Por tanto, como tenemos 3 capas en nuestro modelo tenemos 6 arrays de parámetros, los cuales, los dos primeros arrays corresponde al valor de los pesos (el primero) y los umbrales (el segundo), los dos siguientes a la segunda capa y los últimos a la última capa."
   ]
  },
  {
   "cell_type": "code",
   "execution_count": 14,
   "metadata": {
    "colab": {
     "base_uri": "https://localhost:8080/",
     "height": 1927
    },
    "colab_type": "code",
    "executionInfo": {
     "elapsed": 1287,
     "status": "ok",
     "timestamp": 1554709473793,
     "user": {
      "displayName": "Fernando Rubio",
      "photoUrl": "",
      "userId": "13613469116164460032"
     },
     "user_tz": -120
    },
    "id": "eXCVq9R-fvDn",
    "outputId": "018551b4-74c0-4974-ba1c-2e2e29a23043"
   },
   "outputs": [
    {
     "data": {
      "text/plain": [
       "[array([[-0.03862364, -0.00397223, -0.05359059, ...,  0.06350475,\n",
       "          0.07604041,  0.05544551],\n",
       "        [-0.07427593,  0.05336181, -0.07550387, ...,  0.0227139 ,\n",
       "         -0.03288995,  0.04950372],\n",
       "        [ 0.04723411,  0.01795948,  0.07037921, ..., -0.07459584,\n",
       "          0.01123744, -0.07596777],\n",
       "        ...,\n",
       "        [ 0.07359526,  0.02797133, -0.06526592, ...,  0.00014466,\n",
       "         -0.04730898,  0.05025419],\n",
       "        [-0.02346993, -0.05873499, -0.01016098, ..., -0.02440092,\n",
       "         -0.07039852, -0.07671025],\n",
       "        [-0.03438187, -0.05634336, -0.06539854, ...,  0.04743197,\n",
       "         -0.00710706, -0.03531517]], dtype=float32),\n",
       " array([ 0.05142695, -0.00070586,  0.01783496,  0.06568229,  0.08002208,\n",
       "        -0.07578573,  0.00793004,  0.07037205,  0.14684124,  0.02179336,\n",
       "        -0.08021172,  0.05829277,  0.04839266,  0.01033035,  0.00087553,\n",
       "         0.02552476,  0.01753437,  0.14581184,  0.02108272,  0.09092388,\n",
       "         0.00257584,  0.09685087,  0.02400576, -0.01538042,  0.14488682,\n",
       "         0.04206713, -0.00212715,  0.03814652,  0.06201437, -0.00343353,\n",
       "         0.05675836,  0.0634069 ], dtype=float32),\n",
       " array([[ 0.10309219,  0.02967859,  0.3549301 , ..., -0.01047602,\n",
       "          0.40932184,  0.1603212 ],\n",
       "        [ 0.2431756 ,  0.2179159 , -0.29921365, ..., -0.21151939,\n",
       "          0.22071163,  0.30959126],\n",
       "        [ 0.34142262, -0.2889099 ,  0.08688083, ...,  0.0201653 ,\n",
       "          0.23525766, -0.3349884 ],\n",
       "        ...,\n",
       "        [-0.14607982,  0.22949348, -0.11966635, ...,  0.21444005,\n",
       "         -0.06956572, -0.05192241],\n",
       "        [-0.30941698, -0.25904554,  0.15338385, ..., -0.17469712,\n",
       "          0.43024206, -0.07845363],\n",
       "        [-0.22310443,  0.03018658, -0.2430238 , ...,  0.05048107,\n",
       "         -0.00266107, -0.2831583 ]], dtype=float32),\n",
       " array([-0.01676096, -0.01518925,  0.11294144, -0.01894019, -0.01938259,\n",
       "         0.01664183,  0.07035399, -0.06886914, -0.01319273,  0.10324902,\n",
       "        -0.08754683,  0.05524113,  0.10178138,  0.04498099,  0.07658203,\n",
       "         0.03311686,  0.06491429, -0.00591631, -0.01628916, -0.01396663,\n",
       "         0.00433625,  0.04151829,  0.04018993,  0.00492159,  0.00702848,\n",
       "        -0.01545244,  0.07776777,  0.16210695,  0.0468018 ,  0.0032562 ,\n",
       "         0.05601165,  0.09275623], dtype=float32),\n",
       " array([[-5.01823545e-01, -1.72630101e-01,  3.10510751e-02,\n",
       "         -1.10746875e-01, -3.67755830e-01,  6.47952780e-02,\n",
       "         -2.07865402e-01,  2.34859914e-01,  5.03331542e-01,\n",
       "          4.08830792e-01],\n",
       "        [-2.89419107e-02,  5.34771802e-03,  3.58673126e-01,\n",
       "         -7.70678297e-02, -3.24212061e-03, -1.86940692e-02,\n",
       "         -5.72759546e-02, -2.42726207e-01,  2.98780888e-01,\n",
       "          3.25516611e-01],\n",
       "        [-3.02149296e-01,  4.86963481e-01, -2.90757537e-01,\n",
       "          3.97410303e-01, -4.76512104e-01, -1.68484226e-01,\n",
       "         -2.58460492e-01,  5.05648911e-01, -1.26025274e-01,\n",
       "          2.69843284e-02],\n",
       "        [-3.41150373e-01,  2.86253572e-01,  1.31173536e-01,\n",
       "         -2.89752513e-01,  2.58141309e-01,  1.44398704e-01,\n",
       "          1.60628602e-01,  1.77103594e-01,  1.60279274e-01,\n",
       "          2.58752704e-01],\n",
       "        [-1.58688590e-01, -1.57596111e-01,  1.19543187e-01,\n",
       "         -1.56790599e-01, -3.83839965e-01, -3.20609242e-01,\n",
       "          5.21333158e-01, -3.89032513e-02,  2.24618256e-01,\n",
       "         -3.84074152e-02],\n",
       "        [-1.23697340e-01,  1.63191348e-01,  2.69249052e-01,\n",
       "          8.08416367e-01, -1.02341168e-01, -5.35799637e-02,\n",
       "         -4.46070015e-01, -3.42250824e-01, -1.23357505e-01,\n",
       "         -4.13821727e-01],\n",
       "        [-3.81398678e-01, -2.53102332e-01,  1.76073536e-01,\n",
       "         -1.33292273e-01,  4.31483656e-01,  4.82387275e-01,\n",
       "          4.01593864e-01, -2.49197371e-02,  2.27164745e-01,\n",
       "         -1.78259462e-01],\n",
       "        [ 1.58673003e-01, -2.63699949e-01,  3.27102602e-01,\n",
       "         -1.17193677e-01, -5.84915280e-01, -1.29108727e-01,\n",
       "         -2.06242174e-01, -6.50786698e-01,  4.58383083e-01,\n",
       "          3.75034899e-01],\n",
       "        [ 4.81133945e-02, -9.35020205e-03,  2.26891682e-01,\n",
       "          2.93897212e-01, -1.97329313e-01,  4.13580015e-02,\n",
       "         -2.03412965e-01, -8.69630650e-02,  3.71038288e-01,\n",
       "         -8.97468254e-02],\n",
       "        [-6.07744098e-01,  5.85726261e-01, -3.21721166e-01,\n",
       "          3.82476635e-02,  3.23733479e-01, -6.91848174e-02,\n",
       "         -1.02001898e-01,  3.47822756e-01,  6.14223480e-02,\n",
       "         -2.69504130e-01],\n",
       "        [ 5.53051770e-01, -5.06221771e-01,  1.37375459e-01,\n",
       "         -4.40336466e-01, -1.38428258e-02, -3.75287421e-02,\n",
       "         -9.81183425e-02, -1.87323347e-01,  5.92012823e-01,\n",
       "          5.23578487e-02],\n",
       "        [ 2.02512369e-02,  2.71268159e-01, -3.87455583e-01,\n",
       "         -4.53494664e-04, -2.08865240e-01, -1.05004303e-01,\n",
       "         -1.23136170e-01, -2.13961199e-01, -4.09197450e-01,\n",
       "          6.04198650e-02],\n",
       "        [ 2.03504741e-01, -7.93662593e-02, -3.96057993e-01,\n",
       "         -1.38158530e-01, -1.50289208e-01,  3.93336028e-01,\n",
       "          4.06978548e-01,  1.72350913e-01, -4.45125163e-01,\n",
       "          2.32456192e-01],\n",
       "        [-1.35620877e-01,  1.70869172e-01,  5.22435129e-01,\n",
       "         -1.53994367e-01, -5.04248798e-01,  1.13017261e-01,\n",
       "          3.18743140e-01, -1.64116010e-01,  1.49718776e-01,\n",
       "         -4.65917766e-01],\n",
       "        [-3.45724672e-01,  5.84647238e-01,  2.64980793e-01,\n",
       "         -1.35948956e-01,  1.89428180e-01, -4.95476499e-02,\n",
       "          8.51306021e-02, -2.41417900e-01,  8.78782943e-02,\n",
       "          2.70622134e-01],\n",
       "        [ 2.86893487e-01, -2.68044263e-01,  1.34809271e-01,\n",
       "          6.56661168e-02,  1.15147151e-01, -7.54962787e-02,\n",
       "          4.26472455e-01, -4.41934913e-02, -3.34553421e-01,\n",
       "         -5.19320607e-01],\n",
       "        [-6.02708645e-02, -4.97692585e-01, -5.04528061e-02,\n",
       "         -7.35339597e-02,  4.08404261e-01, -4.32986617e-01,\n",
       "         -5.52709341e-01,  4.05988812e-01, -4.51570243e-01,\n",
       "          3.67928445e-01],\n",
       "        [ 2.47334599e-01, -8.79808813e-02,  2.43163675e-01,\n",
       "         -3.11914116e-01,  3.62361819e-01,  1.28207132e-01,\n",
       "         -2.11022332e-01,  6.12730533e-02,  1.35154426e-01,\n",
       "          3.68188322e-02],\n",
       "        [ 1.45782962e-01,  3.51442933e-01,  1.14334136e-01,\n",
       "         -3.92809927e-01,  2.37901688e-01, -2.62220293e-01,\n",
       "          3.51964459e-02, -4.72732931e-01, -8.65401048e-03,\n",
       "         -2.01588959e-01],\n",
       "        [-1.74712509e-01, -1.15092836e-01, -1.66191712e-01,\n",
       "          9.98262987e-02,  2.04836026e-01, -2.05323398e-01,\n",
       "          3.30699354e-01, -5.25969267e-01, -1.92755997e-01,\n",
       "         -2.16327175e-01],\n",
       "        [ 7.47570172e-02, -2.26067364e-01, -2.66416013e-01,\n",
       "         -4.12630886e-01,  3.91442291e-02, -3.02835274e-02,\n",
       "          1.04107089e-01, -1.47375047e-01, -3.82122654e-03,\n",
       "         -3.99510503e-01],\n",
       "        [ 4.62628335e-01, -2.91000139e-02, -3.26614827e-01,\n",
       "          2.96157449e-01, -4.55368221e-01, -3.73868585e-01,\n",
       "         -2.97183283e-02,  5.70094526e-01, -2.82557487e-01,\n",
       "          7.78073166e-03],\n",
       "        [-3.81531045e-02,  1.26209512e-01, -2.62751222e-01,\n",
       "         -7.42553994e-02, -3.06369036e-01,  3.56116384e-01,\n",
       "          8.37250054e-02, -3.08122635e-01,  1.73015147e-01,\n",
       "          1.58714920e-01],\n",
       "        [-1.37689030e-02, -5.56584373e-02, -3.69374543e-01,\n",
       "          1.71912432e-01,  2.61777729e-01, -3.37854058e-01,\n",
       "          1.22686319e-01, -3.05281848e-01, -3.67917091e-01,\n",
       "          3.32005173e-01],\n",
       "        [-2.70000920e-02, -2.21648231e-01,  3.54221851e-01,\n",
       "          1.05950786e-02,  3.27927977e-01, -1.41320974e-01,\n",
       "         -3.85159314e-01,  3.80759612e-02,  1.20801397e-01,\n",
       "          4.21688646e-01],\n",
       "        [ 6.41706288e-02, -3.55394512e-01, -2.86284834e-01,\n",
       "          3.80944908e-01, -4.66106981e-02,  3.69486958e-01,\n",
       "         -2.38610469e-02,  2.15340003e-01,  3.63300622e-01,\n",
       "          2.92631239e-01],\n",
       "        [ 3.00190836e-01, -4.25641872e-02,  4.72794473e-01,\n",
       "         -9.14325789e-02,  2.49709994e-01,  6.67089075e-02,\n",
       "          2.06933811e-01,  5.91100633e-01, -5.20282209e-01,\n",
       "          7.61762336e-02],\n",
       "        [ 5.43438494e-01, -1.03494041e-01, -4.54047143e-01,\n",
       "          3.64741594e-01, -2.22928971e-01,  8.45286250e-01,\n",
       "         -2.61055738e-01, -5.87587990e-03, -1.11682221e-01,\n",
       "         -3.31585646e-01],\n",
       "        [-3.33153874e-01, -2.28964277e-02, -4.02829051e-01,\n",
       "         -3.29604685e-01,  5.31692326e-01, -2.09813684e-01,\n",
       "         -1.48166642e-01, -1.74715713e-01, -1.23689421e-01,\n",
       "          2.09312350e-01],\n",
       "        [ 3.00749242e-01,  1.66317254e-01, -1.15947891e-02,\n",
       "          2.88230807e-01, -1.52914360e-01,  2.72875786e-01,\n",
       "          2.35610262e-01, -3.69654059e-01,  3.50610882e-01,\n",
       "          3.43637228e-01],\n",
       "        [ 4.87372845e-01, -4.58951741e-01,  6.92326665e-01,\n",
       "         -5.07040545e-02,  2.62378246e-01, -1.21162921e-01,\n",
       "         -3.14034641e-01,  3.39108616e-01, -4.73816216e-01,\n",
       "         -3.17125410e-01],\n",
       "        [-4.59699094e-01,  3.38546187e-01,  1.94107413e-01,\n",
       "          5.14288485e-01, -6.28867093e-03,  2.72853345e-01,\n",
       "          1.31545514e-01, -1.98566690e-02, -4.79435772e-02,\n",
       "         -1.67957202e-01]], dtype=float32),\n",
       " array([-0.09036551,  0.2237553 , -0.01346824, -0.13290651, -0.08310036,\n",
       "         0.24817438, -0.03110877,  0.04116101, -0.1668295 ,  0.00468788],\n",
       "       dtype=float32)]"
      ]
     },
     "execution_count": 14,
     "metadata": {},
     "output_type": "execute_result"
    }
   ],
   "source": [
    "# Podemos ver el valor de los parámetros asignados (al entrenamiento específico realizado)\n",
    "model.get_weights()\n",
    "\n",
    "# Nos muestra 6 arrays. Los 2 primeros pertenecen a la primera capa oculta, el primero a los pesos(32 arreglos, uno para los pesos de cada naurona) y el segundo a los umbrales(32 valores);\n",
    "# los 2 siguientes a los pesos y umbrales de la segunda capa oculta; y los últimos 2 a los pesos y umbrales de la capa de salida (en este caso posee 10 neuronas por lo que cada arreglo tiene 10 valores y el umbral solo tiene 10 valores)\n"
   ]
  },
  {
   "cell_type": "markdown",
   "metadata": {},
   "source": [
    "Podemos almacenar con un array NumPy"
   ]
  },
  {
   "cell_type": "code",
   "execution_count": 16,
   "metadata": {
    "colab": {},
    "colab_type": "code",
    "id": "DvA3DaGDcCfr"
   },
   "outputs": [],
   "source": [
    "###############   NO EJECUTAR ESTE BLOQUE - npy DEPRECATED #################\n",
    "# np.save('weights_numpy.npy',model.get_weights())"
   ]
  },
  {
   "cell_type": "markdown",
   "metadata": {},
   "source": [
    "La otra forma es la de formato tanto estructura como en valores con H5"
   ]
  },
  {
   "cell_type": "code",
   "execution_count": 17,
   "metadata": {
    "colab": {},
    "colab_type": "code",
    "id": "DvA3DaGDcCfr"
   },
   "outputs": [
    {
     "name": "stderr",
     "output_type": "stream",
     "text": [
      "WARNING:absl:You are saving your model as an HDF5 file via `model.save()` or `keras.saving.save_model(model)`. This file format is considered legacy. We recommend using instead the native Keras format, e.g. `model.save('my_model.keras')` or `keras.saving.save_model(model, 'my_model.keras')`. \n"
     ]
    }
   ],
   "source": [
    "# Este formato nos guarda la estructura del modelo y los pesos entrenados conjuntamente\n",
    "model.save('model_h5.h5')"
   ]
  },
  {
   "cell_type": "markdown",
   "metadata": {
    "colab_type": "text",
    "id": "phCkq9TZa7o5"
   },
   "source": [
    "<a id=\"section14\"></a>\n",
    "# <font color=\"#004D7F\" size=5>1.4. Carga de los pesos</font>"
   ]
  },
  {
   "cell_type": "markdown",
   "metadata": {},
   "source": [
    "Ahora podemos cargar los pesos. Si primero lo cargamos con Numpy primero cargamos los pesos y luego tenemos que establecerlos a model2 con la función `set_weights`."
   ]
  },
  {
   "cell_type": "code",
   "execution_count": 19,
   "metadata": {
    "colab": {},
    "colab_type": "code",
    "id": "x5Otn59mgVVo"
   },
   "outputs": [],
   "source": [
    "###############   NO EJECUTAR ESTE BLOQUE - npy DEPRECATED #################\n",
    "#model2.set_weights(np.load('weights_numpy.npy', allow_pickle=True))"
   ]
  },
  {
   "cell_type": "code",
   "execution_count": 1,
   "metadata": {
    "colab": {
     "base_uri": "https://localhost:8080/",
     "height": 1927
    },
    "colab_type": "code",
    "executionInfo": {
     "elapsed": 1472,
     "status": "ok",
     "timestamp": 1554709671022,
     "user": {
      "displayName": "Fernando Rubio",
      "photoUrl": "",
      "userId": "13613469116164460032"
     },
     "user_tz": -120
    },
    "id": "ObhSK1fqgvFJ",
    "outputId": "a401792f-ef70-47fb-b9d5-73b4c5aa8f40"
   },
   "outputs": [],
   "source": [
    "###############   NO EJECUTAR ESTE BLOQUE - npy DEPRECATED #################\n",
    "#model2.get_weights()"
   ]
  },
  {
   "cell_type": "markdown",
   "metadata": {},
   "source": [
    "Lo cargamos ahora con la forma H5 donde carga en un solo paso la estructura y los valores."
   ]
  },
  {
   "cell_type": "code",
   "execution_count": 18,
   "metadata": {
    "colab": {},
    "colab_type": "code",
    "id": "8xpreZRJf9RS"
   },
   "outputs": [
    {
     "name": "stderr",
     "output_type": "stream",
     "text": [
      "WARNING:absl:Compiled the loaded model, but the compiled metrics have yet to be built. `model.compile_metrics` will be empty until you train or evaluate the model.\n"
     ]
    }
   ],
   "source": [
    "# Cargamos la estructura y los pesos\n",
    "from keras.models import load_model\n",
    "\n",
    "model3 = load_model('model_h5.h5')"
   ]
  },
  {
   "cell_type": "code",
   "execution_count": 19,
   "metadata": {
    "colab": {
     "base_uri": "https://localhost:8080/",
     "height": 243
    },
    "colab_type": "code",
    "executionInfo": {
     "elapsed": 935,
     "status": "ok",
     "timestamp": 1554709710814,
     "user": {
      "displayName": "Fernando Rubio",
      "photoUrl": "",
      "userId": "13613469116164460032"
     },
     "user_tz": -120
    },
    "id": "EOzpPLdebXcc",
    "outputId": "c8f93dd2-5128-477c-ab78-a1e661367eb1"
   },
   "outputs": [
    {
     "data": {
      "text/html": [
       "<pre style=\"white-space:pre;overflow-x:auto;line-height:normal;font-family:Menlo,'DejaVu Sans Mono',consolas,'Courier New',monospace\"><span style=\"font-weight: bold\">Model: \"sequential\"</span>\n",
       "</pre>\n"
      ],
      "text/plain": [
       "\u001b[1mModel: \"sequential\"\u001b[0m\n"
      ]
     },
     "metadata": {},
     "output_type": "display_data"
    },
    {
     "data": {
      "text/html": [
       "<pre style=\"white-space:pre;overflow-x:auto;line-height:normal;font-family:Menlo,'DejaVu Sans Mono',consolas,'Courier New',monospace\">┏━━━━━━━━━━━━━━━━━━━━━━━━━━━━━━━━━━━━━━┳━━━━━━━━━━━━━━━━━━━━━━━━━━━━━┳━━━━━━━━━━━━━━━━━┓\n",
       "┃<span style=\"font-weight: bold\"> Layer (type)                         </span>┃<span style=\"font-weight: bold\"> Output Shape                </span>┃<span style=\"font-weight: bold\">         Param # </span>┃\n",
       "┡━━━━━━━━━━━━━━━━━━━━━━━━━━━━━━━━━━━━━━╇━━━━━━━━━━━━━━━━━━━━━━━━━━━━━╇━━━━━━━━━━━━━━━━━┩\n",
       "│ dense (<span style=\"color: #0087ff; text-decoration-color: #0087ff\">Dense</span>)                        │ (<span style=\"color: #00d7ff; text-decoration-color: #00d7ff\">None</span>, <span style=\"color: #00af00; text-decoration-color: #00af00\">32</span>)                  │          <span style=\"color: #00af00; text-decoration-color: #00af00\">25,120</span> │\n",
       "├──────────────────────────────────────┼─────────────────────────────┼─────────────────┤\n",
       "│ dense_1 (<span style=\"color: #0087ff; text-decoration-color: #0087ff\">Dense</span>)                      │ (<span style=\"color: #00d7ff; text-decoration-color: #00d7ff\">None</span>, <span style=\"color: #00af00; text-decoration-color: #00af00\">32</span>)                  │           <span style=\"color: #00af00; text-decoration-color: #00af00\">1,056</span> │\n",
       "├──────────────────────────────────────┼─────────────────────────────┼─────────────────┤\n",
       "│ dense_2 (<span style=\"color: #0087ff; text-decoration-color: #0087ff\">Dense</span>)                      │ (<span style=\"color: #00d7ff; text-decoration-color: #00d7ff\">None</span>, <span style=\"color: #00af00; text-decoration-color: #00af00\">10</span>)                  │             <span style=\"color: #00af00; text-decoration-color: #00af00\">330</span> │\n",
       "└──────────────────────────────────────┴─────────────────────────────┴─────────────────┘\n",
       "</pre>\n"
      ],
      "text/plain": [
       "┏━━━━━━━━━━━━━━━━━━━━━━━━━━━━━━━━━━━━━━┳━━━━━━━━━━━━━━━━━━━━━━━━━━━━━┳━━━━━━━━━━━━━━━━━┓\n",
       "┃\u001b[1m \u001b[0m\u001b[1mLayer (type)                        \u001b[0m\u001b[1m \u001b[0m┃\u001b[1m \u001b[0m\u001b[1mOutput Shape               \u001b[0m\u001b[1m \u001b[0m┃\u001b[1m \u001b[0m\u001b[1m        Param #\u001b[0m\u001b[1m \u001b[0m┃\n",
       "┡━━━━━━━━━━━━━━━━━━━━━━━━━━━━━━━━━━━━━━╇━━━━━━━━━━━━━━━━━━━━━━━━━━━━━╇━━━━━━━━━━━━━━━━━┩\n",
       "│ dense (\u001b[38;5;33mDense\u001b[0m)                        │ (\u001b[38;5;45mNone\u001b[0m, \u001b[38;5;34m32\u001b[0m)                  │          \u001b[38;5;34m25,120\u001b[0m │\n",
       "├──────────────────────────────────────┼─────────────────────────────┼─────────────────┤\n",
       "│ dense_1 (\u001b[38;5;33mDense\u001b[0m)                      │ (\u001b[38;5;45mNone\u001b[0m, \u001b[38;5;34m32\u001b[0m)                  │           \u001b[38;5;34m1,056\u001b[0m │\n",
       "├──────────────────────────────────────┼─────────────────────────────┼─────────────────┤\n",
       "│ dense_2 (\u001b[38;5;33mDense\u001b[0m)                      │ (\u001b[38;5;45mNone\u001b[0m, \u001b[38;5;34m10\u001b[0m)                  │             \u001b[38;5;34m330\u001b[0m │\n",
       "└──────────────────────────────────────┴─────────────────────────────┴─────────────────┘\n"
      ]
     },
     "metadata": {},
     "output_type": "display_data"
    },
    {
     "data": {
      "text/html": [
       "<pre style=\"white-space:pre;overflow-x:auto;line-height:normal;font-family:Menlo,'DejaVu Sans Mono',consolas,'Courier New',monospace\"><span style=\"font-weight: bold\"> Total params: </span><span style=\"color: #00af00; text-decoration-color: #00af00\">26,508</span> (103.55 KB)\n",
       "</pre>\n"
      ],
      "text/plain": [
       "\u001b[1m Total params: \u001b[0m\u001b[38;5;34m26,508\u001b[0m (103.55 KB)\n"
      ]
     },
     "metadata": {},
     "output_type": "display_data"
    },
    {
     "data": {
      "text/html": [
       "<pre style=\"white-space:pre;overflow-x:auto;line-height:normal;font-family:Menlo,'DejaVu Sans Mono',consolas,'Courier New',monospace\"><span style=\"font-weight: bold\"> Trainable params: </span><span style=\"color: #00af00; text-decoration-color: #00af00\">26,506</span> (103.54 KB)\n",
       "</pre>\n"
      ],
      "text/plain": [
       "\u001b[1m Trainable params: \u001b[0m\u001b[38;5;34m26,506\u001b[0m (103.54 KB)\n"
      ]
     },
     "metadata": {},
     "output_type": "display_data"
    },
    {
     "data": {
      "text/html": [
       "<pre style=\"white-space:pre;overflow-x:auto;line-height:normal;font-family:Menlo,'DejaVu Sans Mono',consolas,'Courier New',monospace\"><span style=\"font-weight: bold\"> Non-trainable params: </span><span style=\"color: #00af00; text-decoration-color: #00af00\">0</span> (0.00 B)\n",
       "</pre>\n"
      ],
      "text/plain": [
       "\u001b[1m Non-trainable params: \u001b[0m\u001b[38;5;34m0\u001b[0m (0.00 B)\n"
      ]
     },
     "metadata": {},
     "output_type": "display_data"
    },
    {
     "data": {
      "text/html": [
       "<pre style=\"white-space:pre;overflow-x:auto;line-height:normal;font-family:Menlo,'DejaVu Sans Mono',consolas,'Courier New',monospace\"><span style=\"font-weight: bold\"> Optimizer params: </span><span style=\"color: #00af00; text-decoration-color: #00af00\">2</span> (12.00 B)\n",
       "</pre>\n"
      ],
      "text/plain": [
       "\u001b[1m Optimizer params: \u001b[0m\u001b[38;5;34m2\u001b[0m (12.00 B)\n"
      ]
     },
     "metadata": {},
     "output_type": "display_data"
    }
   ],
   "source": [
    "# vemos la estructura guardada\n",
    "model3.summary()"
   ]
  },
  {
   "cell_type": "code",
   "execution_count": 21,
   "metadata": {
    "colab": {
     "base_uri": "https://localhost:8080/",
     "height": 1927
    },
    "colab_type": "code",
    "executionInfo": {
     "elapsed": 1326,
     "status": "ok",
     "timestamp": 1554709716428,
     "user": {
      "displayName": "Fernando Rubio",
      "photoUrl": "",
      "userId": "13613469116164460032"
     },
     "user_tz": -120
    },
    "id": "URVBgmX1g0ls",
    "outputId": "f6a2f480-5b3a-46ee-f357-24a8f1c56a32"
   },
   "outputs": [
    {
     "data": {
      "text/plain": [
       "[array([[-0.03862364, -0.00397223, -0.05359059, ...,  0.06350475,\n",
       "          0.07604041,  0.05544551],\n",
       "        [-0.07427593,  0.05336181, -0.07550387, ...,  0.0227139 ,\n",
       "         -0.03288995,  0.04950372],\n",
       "        [ 0.04723411,  0.01795948,  0.07037921, ..., -0.07459584,\n",
       "          0.01123744, -0.07596777],\n",
       "        ...,\n",
       "        [ 0.07359526,  0.02797133, -0.06526592, ...,  0.00014466,\n",
       "         -0.04730898,  0.05025419],\n",
       "        [-0.02346993, -0.05873499, -0.01016098, ..., -0.02440092,\n",
       "         -0.07039852, -0.07671025],\n",
       "        [-0.03438187, -0.05634336, -0.06539854, ...,  0.04743197,\n",
       "         -0.00710706, -0.03531517]], dtype=float32),\n",
       " array([ 0.05142695, -0.00070586,  0.01783496,  0.06568229,  0.08002208,\n",
       "        -0.07578573,  0.00793004,  0.07037205,  0.14684124,  0.02179336,\n",
       "        -0.08021172,  0.05829277,  0.04839266,  0.01033035,  0.00087553,\n",
       "         0.02552476,  0.01753437,  0.14581184,  0.02108272,  0.09092388,\n",
       "         0.00257584,  0.09685087,  0.02400576, -0.01538042,  0.14488682,\n",
       "         0.04206713, -0.00212715,  0.03814652,  0.06201437, -0.00343353,\n",
       "         0.05675836,  0.0634069 ], dtype=float32),\n",
       " array([[ 0.10309219,  0.02967859,  0.3549301 , ..., -0.01047602,\n",
       "          0.40932184,  0.1603212 ],\n",
       "        [ 0.2431756 ,  0.2179159 , -0.29921365, ..., -0.21151939,\n",
       "          0.22071163,  0.30959126],\n",
       "        [ 0.34142262, -0.2889099 ,  0.08688083, ...,  0.0201653 ,\n",
       "          0.23525766, -0.3349884 ],\n",
       "        ...,\n",
       "        [-0.14607982,  0.22949348, -0.11966635, ...,  0.21444005,\n",
       "         -0.06956572, -0.05192241],\n",
       "        [-0.30941698, -0.25904554,  0.15338385, ..., -0.17469712,\n",
       "          0.43024206, -0.07845363],\n",
       "        [-0.22310443,  0.03018658, -0.2430238 , ...,  0.05048107,\n",
       "         -0.00266107, -0.2831583 ]], dtype=float32),\n",
       " array([-0.01676096, -0.01518925,  0.11294144, -0.01894019, -0.01938259,\n",
       "         0.01664183,  0.07035399, -0.06886914, -0.01319273,  0.10324902,\n",
       "        -0.08754683,  0.05524113,  0.10178138,  0.04498099,  0.07658203,\n",
       "         0.03311686,  0.06491429, -0.00591631, -0.01628916, -0.01396663,\n",
       "         0.00433625,  0.04151829,  0.04018993,  0.00492159,  0.00702848,\n",
       "        -0.01545244,  0.07776777,  0.16210695,  0.0468018 ,  0.0032562 ,\n",
       "         0.05601165,  0.09275623], dtype=float32),\n",
       " array([[-5.01823545e-01, -1.72630101e-01,  3.10510751e-02,\n",
       "         -1.10746875e-01, -3.67755830e-01,  6.47952780e-02,\n",
       "         -2.07865402e-01,  2.34859914e-01,  5.03331542e-01,\n",
       "          4.08830792e-01],\n",
       "        [-2.89419107e-02,  5.34771802e-03,  3.58673126e-01,\n",
       "         -7.70678297e-02, -3.24212061e-03, -1.86940692e-02,\n",
       "         -5.72759546e-02, -2.42726207e-01,  2.98780888e-01,\n",
       "          3.25516611e-01],\n",
       "        [-3.02149296e-01,  4.86963481e-01, -2.90757537e-01,\n",
       "          3.97410303e-01, -4.76512104e-01, -1.68484226e-01,\n",
       "         -2.58460492e-01,  5.05648911e-01, -1.26025274e-01,\n",
       "          2.69843284e-02],\n",
       "        [-3.41150373e-01,  2.86253572e-01,  1.31173536e-01,\n",
       "         -2.89752513e-01,  2.58141309e-01,  1.44398704e-01,\n",
       "          1.60628602e-01,  1.77103594e-01,  1.60279274e-01,\n",
       "          2.58752704e-01],\n",
       "        [-1.58688590e-01, -1.57596111e-01,  1.19543187e-01,\n",
       "         -1.56790599e-01, -3.83839965e-01, -3.20609242e-01,\n",
       "          5.21333158e-01, -3.89032513e-02,  2.24618256e-01,\n",
       "         -3.84074152e-02],\n",
       "        [-1.23697340e-01,  1.63191348e-01,  2.69249052e-01,\n",
       "          8.08416367e-01, -1.02341168e-01, -5.35799637e-02,\n",
       "         -4.46070015e-01, -3.42250824e-01, -1.23357505e-01,\n",
       "         -4.13821727e-01],\n",
       "        [-3.81398678e-01, -2.53102332e-01,  1.76073536e-01,\n",
       "         -1.33292273e-01,  4.31483656e-01,  4.82387275e-01,\n",
       "          4.01593864e-01, -2.49197371e-02,  2.27164745e-01,\n",
       "         -1.78259462e-01],\n",
       "        [ 1.58673003e-01, -2.63699949e-01,  3.27102602e-01,\n",
       "         -1.17193677e-01, -5.84915280e-01, -1.29108727e-01,\n",
       "         -2.06242174e-01, -6.50786698e-01,  4.58383083e-01,\n",
       "          3.75034899e-01],\n",
       "        [ 4.81133945e-02, -9.35020205e-03,  2.26891682e-01,\n",
       "          2.93897212e-01, -1.97329313e-01,  4.13580015e-02,\n",
       "         -2.03412965e-01, -8.69630650e-02,  3.71038288e-01,\n",
       "         -8.97468254e-02],\n",
       "        [-6.07744098e-01,  5.85726261e-01, -3.21721166e-01,\n",
       "          3.82476635e-02,  3.23733479e-01, -6.91848174e-02,\n",
       "         -1.02001898e-01,  3.47822756e-01,  6.14223480e-02,\n",
       "         -2.69504130e-01],\n",
       "        [ 5.53051770e-01, -5.06221771e-01,  1.37375459e-01,\n",
       "         -4.40336466e-01, -1.38428258e-02, -3.75287421e-02,\n",
       "         -9.81183425e-02, -1.87323347e-01,  5.92012823e-01,\n",
       "          5.23578487e-02],\n",
       "        [ 2.02512369e-02,  2.71268159e-01, -3.87455583e-01,\n",
       "         -4.53494664e-04, -2.08865240e-01, -1.05004303e-01,\n",
       "         -1.23136170e-01, -2.13961199e-01, -4.09197450e-01,\n",
       "          6.04198650e-02],\n",
       "        [ 2.03504741e-01, -7.93662593e-02, -3.96057993e-01,\n",
       "         -1.38158530e-01, -1.50289208e-01,  3.93336028e-01,\n",
       "          4.06978548e-01,  1.72350913e-01, -4.45125163e-01,\n",
       "          2.32456192e-01],\n",
       "        [-1.35620877e-01,  1.70869172e-01,  5.22435129e-01,\n",
       "         -1.53994367e-01, -5.04248798e-01,  1.13017261e-01,\n",
       "          3.18743140e-01, -1.64116010e-01,  1.49718776e-01,\n",
       "         -4.65917766e-01],\n",
       "        [-3.45724672e-01,  5.84647238e-01,  2.64980793e-01,\n",
       "         -1.35948956e-01,  1.89428180e-01, -4.95476499e-02,\n",
       "          8.51306021e-02, -2.41417900e-01,  8.78782943e-02,\n",
       "          2.70622134e-01],\n",
       "        [ 2.86893487e-01, -2.68044263e-01,  1.34809271e-01,\n",
       "          6.56661168e-02,  1.15147151e-01, -7.54962787e-02,\n",
       "          4.26472455e-01, -4.41934913e-02, -3.34553421e-01,\n",
       "         -5.19320607e-01],\n",
       "        [-6.02708645e-02, -4.97692585e-01, -5.04528061e-02,\n",
       "         -7.35339597e-02,  4.08404261e-01, -4.32986617e-01,\n",
       "         -5.52709341e-01,  4.05988812e-01, -4.51570243e-01,\n",
       "          3.67928445e-01],\n",
       "        [ 2.47334599e-01, -8.79808813e-02,  2.43163675e-01,\n",
       "         -3.11914116e-01,  3.62361819e-01,  1.28207132e-01,\n",
       "         -2.11022332e-01,  6.12730533e-02,  1.35154426e-01,\n",
       "          3.68188322e-02],\n",
       "        [ 1.45782962e-01,  3.51442933e-01,  1.14334136e-01,\n",
       "         -3.92809927e-01,  2.37901688e-01, -2.62220293e-01,\n",
       "          3.51964459e-02, -4.72732931e-01, -8.65401048e-03,\n",
       "         -2.01588959e-01],\n",
       "        [-1.74712509e-01, -1.15092836e-01, -1.66191712e-01,\n",
       "          9.98262987e-02,  2.04836026e-01, -2.05323398e-01,\n",
       "          3.30699354e-01, -5.25969267e-01, -1.92755997e-01,\n",
       "         -2.16327175e-01],\n",
       "        [ 7.47570172e-02, -2.26067364e-01, -2.66416013e-01,\n",
       "         -4.12630886e-01,  3.91442291e-02, -3.02835274e-02,\n",
       "          1.04107089e-01, -1.47375047e-01, -3.82122654e-03,\n",
       "         -3.99510503e-01],\n",
       "        [ 4.62628335e-01, -2.91000139e-02, -3.26614827e-01,\n",
       "          2.96157449e-01, -4.55368221e-01, -3.73868585e-01,\n",
       "         -2.97183283e-02,  5.70094526e-01, -2.82557487e-01,\n",
       "          7.78073166e-03],\n",
       "        [-3.81531045e-02,  1.26209512e-01, -2.62751222e-01,\n",
       "         -7.42553994e-02, -3.06369036e-01,  3.56116384e-01,\n",
       "          8.37250054e-02, -3.08122635e-01,  1.73015147e-01,\n",
       "          1.58714920e-01],\n",
       "        [-1.37689030e-02, -5.56584373e-02, -3.69374543e-01,\n",
       "          1.71912432e-01,  2.61777729e-01, -3.37854058e-01,\n",
       "          1.22686319e-01, -3.05281848e-01, -3.67917091e-01,\n",
       "          3.32005173e-01],\n",
       "        [-2.70000920e-02, -2.21648231e-01,  3.54221851e-01,\n",
       "          1.05950786e-02,  3.27927977e-01, -1.41320974e-01,\n",
       "         -3.85159314e-01,  3.80759612e-02,  1.20801397e-01,\n",
       "          4.21688646e-01],\n",
       "        [ 6.41706288e-02, -3.55394512e-01, -2.86284834e-01,\n",
       "          3.80944908e-01, -4.66106981e-02,  3.69486958e-01,\n",
       "         -2.38610469e-02,  2.15340003e-01,  3.63300622e-01,\n",
       "          2.92631239e-01],\n",
       "        [ 3.00190836e-01, -4.25641872e-02,  4.72794473e-01,\n",
       "         -9.14325789e-02,  2.49709994e-01,  6.67089075e-02,\n",
       "          2.06933811e-01,  5.91100633e-01, -5.20282209e-01,\n",
       "          7.61762336e-02],\n",
       "        [ 5.43438494e-01, -1.03494041e-01, -4.54047143e-01,\n",
       "          3.64741594e-01, -2.22928971e-01,  8.45286250e-01,\n",
       "         -2.61055738e-01, -5.87587990e-03, -1.11682221e-01,\n",
       "         -3.31585646e-01],\n",
       "        [-3.33153874e-01, -2.28964277e-02, -4.02829051e-01,\n",
       "         -3.29604685e-01,  5.31692326e-01, -2.09813684e-01,\n",
       "         -1.48166642e-01, -1.74715713e-01, -1.23689421e-01,\n",
       "          2.09312350e-01],\n",
       "        [ 3.00749242e-01,  1.66317254e-01, -1.15947891e-02,\n",
       "          2.88230807e-01, -1.52914360e-01,  2.72875786e-01,\n",
       "          2.35610262e-01, -3.69654059e-01,  3.50610882e-01,\n",
       "          3.43637228e-01],\n",
       "        [ 4.87372845e-01, -4.58951741e-01,  6.92326665e-01,\n",
       "         -5.07040545e-02,  2.62378246e-01, -1.21162921e-01,\n",
       "         -3.14034641e-01,  3.39108616e-01, -4.73816216e-01,\n",
       "         -3.17125410e-01],\n",
       "        [-4.59699094e-01,  3.38546187e-01,  1.94107413e-01,\n",
       "          5.14288485e-01, -6.28867093e-03,  2.72853345e-01,\n",
       "          1.31545514e-01, -1.98566690e-02, -4.79435772e-02,\n",
       "         -1.67957202e-01]], dtype=float32),\n",
       " array([-0.09036551,  0.2237553 , -0.01346824, -0.13290651, -0.08310036,\n",
       "         0.24817438, -0.03110877,  0.04116101, -0.1668295 ,  0.00468788],\n",
       "       dtype=float32)]"
      ]
     },
     "execution_count": 21,
     "metadata": {},
     "output_type": "execute_result"
    }
   ],
   "source": [
    "# vemos los pesos guardados\n",
    "model3.get_weights()"
   ]
  },
  {
   "cell_type": "markdown",
   "metadata": {},
   "source": [
    "---\n",
    "<div style=\"text-align: right\"> <font size=5> <a href=\"#indice\"><i class=\"fa fa-arrow-circle-up\" aria-hidden=\"true\" style=\"color:#004D7F\"></i></a></font></div>\n",
    "\n",
    "---"
   ]
  },
  {
   "cell_type": "markdown",
   "metadata": {
    "colab_type": "text",
    "id": "4c0ucOhchGT2"
   },
   "source": [
    "<a id=\"section2\"></a>\n",
    "# <font color=\"#004D7F\" size=6> 2. Callbacks y Checkpoints</font>"
   ]
  },
  {
   "cell_type": "markdown",
   "metadata": {
    "colab_type": "text",
    "id": "4c0ucOhchGT2"
   },
   "source": [
    "Los `Callbacks` son funciones que se aplican durante el entrenamiento de una red neuronal. Estas sirven para almacenar datos como la loss en capa epoch o aplicar el `EarlyStopping`. \n",
    "\n",
    "Entre ellas, también están los `Checkpoints`, que permiten almacenar el estado del entrenamiento y de la red dependiendo de una serie de parámetros. \n",
    "+ Por poner un ejemplo, podemos almacenar la mejor red en base a un conjunto de validación o por si hay algún error en el sistema no perderemos todo el trabajo."
   ]
  },
  {
   "cell_type": "markdown",
   "metadata": {},
   "source": [
    "<div class=\"alert alert-block alert-info\">\n",
    "    \n",
    "<i class=\"fa fa-info-circle\" aria-hidden=\"true\"></i>\n",
    "Vamos a ver como realizar todo esto con Keras. Existen diferentes funciones que se pueden encontrar en [Callbacks](https://keras.io/callbacks/)"
   ]
  },
  {
   "cell_type": "markdown",
   "metadata": {
    "colab_type": "text",
    "id": "4c0ucOhchGT2"
   },
   "source": [
    "<a id=\"section21\"></a>\n",
    "# <font color=\"#004D7F\" size=5> 2.1. Early Stopping</font>"
   ]
  },
  {
   "cell_type": "markdown",
   "metadata": {},
   "source": [
    "Primero veamos como podemos detener el entrenamiento en cuanto en la época siguiente no mejora la métrica respecto a la anterior"
   ]
  },
  {
   "cell_type": "code",
   "execution_count": 22,
   "metadata": {
    "colab": {},
    "colab_type": "code",
    "id": "u0lgPXW0lQ8z"
   },
   "outputs": [],
   "source": [
    "# Primero el EarlyStopping. Detiene el entrenamiento cuando la época siguiente no mejora la métrica respecto a la anterior (cuando empeora, se para)\n",
    "from keras.callbacks import EarlyStopping # ver más callbacks en documentación\n",
    "\n",
    "early_stop = EarlyStopping(monitor='val_loss') # le decimos que monitoree y detenga la ejecución en función de la pérdida (podemos ponerlo tmb segun'loss')"
   ]
  },
  {
   "cell_type": "code",
   "execution_count": 24,
   "metadata": {
    "colab": {
     "base_uri": "https://localhost:8080/",
     "height": 139
    },
    "colab_type": "code",
    "executionInfo": {
     "elapsed": 5827,
     "status": "ok",
     "timestamp": 1554710095859,
     "user": {
      "displayName": "Fernando Rubio",
      "photoUrl": "",
      "userId": "13613469116164460032"
     },
     "user_tz": -120
    },
    "id": "YULEEfQDmJti",
    "outputId": "3e6424e9-81d1-4d11-a6a6-ac19ac43a279",
    "scrolled": true
   },
   "outputs": [
    {
     "name": "stdout",
     "output_type": "stream",
     "text": [
      "Epoch 1/100\n",
      "\u001b[1m422/422\u001b[0m \u001b[32m━━━━━━━━━━━━━━━━━━━━\u001b[0m\u001b[37m\u001b[0m \u001b[1m1s\u001b[0m 2ms/step - loss: 0.1197 - val_loss: 0.1606\n",
      "Epoch 2/100\n",
      "\u001b[1m422/422\u001b[0m \u001b[32m━━━━━━━━━━━━━━━━━━━━\u001b[0m\u001b[37m\u001b[0m \u001b[1m1s\u001b[0m 2ms/step - loss: 0.1184 - val_loss: 0.1598\n",
      "Epoch 3/100\n",
      "\u001b[1m422/422\u001b[0m \u001b[32m━━━━━━━━━━━━━━━━━━━━\u001b[0m\u001b[37m\u001b[0m \u001b[1m1s\u001b[0m 1ms/step - loss: 0.1172 - val_loss: 0.1591\n",
      "Epoch 4/100\n",
      "\u001b[1m422/422\u001b[0m \u001b[32m━━━━━━━━━━━━━━━━━━━━\u001b[0m\u001b[37m\u001b[0m \u001b[1m1s\u001b[0m 1ms/step - loss: 0.1160 - val_loss: 0.1584\n",
      "Epoch 5/100\n",
      "\u001b[1m422/422\u001b[0m \u001b[32m━━━━━━━━━━━━━━━━━━━━\u001b[0m\u001b[37m\u001b[0m \u001b[1m1s\u001b[0m 1ms/step - loss: 0.1148 - val_loss: 0.1577\n",
      "Epoch 6/100\n",
      "\u001b[1m422/422\u001b[0m \u001b[32m━━━━━━━━━━━━━━━━━━━━\u001b[0m\u001b[37m\u001b[0m \u001b[1m1s\u001b[0m 1ms/step - loss: 0.1136 - val_loss: 0.1570\n",
      "Epoch 7/100\n",
      "\u001b[1m422/422\u001b[0m \u001b[32m━━━━━━━━━━━━━━━━━━━━\u001b[0m\u001b[37m\u001b[0m \u001b[1m1s\u001b[0m 1ms/step - loss: 0.1124 - val_loss: 0.1563\n",
      "Epoch 8/100\n",
      "\u001b[1m422/422\u001b[0m \u001b[32m━━━━━━━━━━━━━━━━━━━━\u001b[0m\u001b[37m\u001b[0m \u001b[1m1s\u001b[0m 2ms/step - loss: 0.1113 - val_loss: 0.1557\n",
      "Epoch 9/100\n",
      "\u001b[1m422/422\u001b[0m \u001b[32m━━━━━━━━━━━━━━━━━━━━\u001b[0m\u001b[37m\u001b[0m \u001b[1m1s\u001b[0m 2ms/step - loss: 0.1101 - val_loss: 0.1551\n",
      "Epoch 10/100\n",
      "\u001b[1m422/422\u001b[0m \u001b[32m━━━━━━━━━━━━━━━━━━━━\u001b[0m\u001b[37m\u001b[0m \u001b[1m1s\u001b[0m 1ms/step - loss: 0.1091 - val_loss: 0.1545\n",
      "Epoch 11/100\n",
      "\u001b[1m422/422\u001b[0m \u001b[32m━━━━━━━━━━━━━━━━━━━━\u001b[0m\u001b[37m\u001b[0m \u001b[1m1s\u001b[0m 1ms/step - loss: 0.1080 - val_loss: 0.1539\n",
      "Epoch 12/100\n",
      "\u001b[1m422/422\u001b[0m \u001b[32m━━━━━━━━━━━━━━━━━━━━\u001b[0m\u001b[37m\u001b[0m \u001b[1m1s\u001b[0m 1ms/step - loss: 0.1069 - val_loss: 0.1533\n",
      "Epoch 13/100\n",
      "\u001b[1m422/422\u001b[0m \u001b[32m━━━━━━━━━━━━━━━━━━━━\u001b[0m\u001b[37m\u001b[0m \u001b[1m1s\u001b[0m 1ms/step - loss: 0.1059 - val_loss: 0.1528\n",
      "Epoch 14/100\n",
      "\u001b[1m422/422\u001b[0m \u001b[32m━━━━━━━━━━━━━━━━━━━━\u001b[0m\u001b[37m\u001b[0m \u001b[1m1s\u001b[0m 2ms/step - loss: 0.1049 - val_loss: 0.1523\n",
      "Epoch 15/100\n",
      "\u001b[1m422/422\u001b[0m \u001b[32m━━━━━━━━━━━━━━━━━━━━\u001b[0m\u001b[37m\u001b[0m \u001b[1m1s\u001b[0m 2ms/step - loss: 0.1039 - val_loss: 0.1517\n",
      "Epoch 16/100\n",
      "\u001b[1m422/422\u001b[0m \u001b[32m━━━━━━━━━━━━━━━━━━━━\u001b[0m\u001b[37m\u001b[0m \u001b[1m1s\u001b[0m 2ms/step - loss: 0.1029 - val_loss: 0.1512\n",
      "Epoch 17/100\n",
      "\u001b[1m422/422\u001b[0m \u001b[32m━━━━━━━━━━━━━━━━━━━━\u001b[0m\u001b[37m\u001b[0m \u001b[1m1s\u001b[0m 2ms/step - loss: 0.1019 - val_loss: 0.1507\n",
      "Epoch 18/100\n",
      "\u001b[1m422/422\u001b[0m \u001b[32m━━━━━━━━━━━━━━━━━━━━\u001b[0m\u001b[37m\u001b[0m \u001b[1m1s\u001b[0m 2ms/step - loss: 0.1009 - val_loss: 0.1502\n",
      "Epoch 19/100\n",
      "\u001b[1m422/422\u001b[0m \u001b[32m━━━━━━━━━━━━━━━━━━━━\u001b[0m\u001b[37m\u001b[0m \u001b[1m1s\u001b[0m 2ms/step - loss: 0.1000 - val_loss: 0.1497\n",
      "Epoch 20/100\n",
      "\u001b[1m422/422\u001b[0m \u001b[32m━━━━━━━━━━━━━━━━━━━━\u001b[0m\u001b[37m\u001b[0m \u001b[1m1s\u001b[0m 2ms/step - loss: 0.0990 - val_loss: 0.1493\n",
      "Epoch 21/100\n",
      "\u001b[1m422/422\u001b[0m \u001b[32m━━━━━━━━━━━━━━━━━━━━\u001b[0m\u001b[37m\u001b[0m \u001b[1m1s\u001b[0m 2ms/step - loss: 0.0981 - val_loss: 0.1489\n",
      "Epoch 22/100\n",
      "\u001b[1m422/422\u001b[0m \u001b[32m━━━━━━━━━━━━━━━━━━━━\u001b[0m\u001b[37m\u001b[0m \u001b[1m1s\u001b[0m 2ms/step - loss: 0.0972 - val_loss: 0.1485\n",
      "Epoch 23/100\n",
      "\u001b[1m422/422\u001b[0m \u001b[32m━━━━━━━━━━━━━━━━━━━━\u001b[0m\u001b[37m\u001b[0m \u001b[1m1s\u001b[0m 2ms/step - loss: 0.0963 - val_loss: 0.1481\n",
      "Epoch 24/100\n",
      "\u001b[1m422/422\u001b[0m \u001b[32m━━━━━━━━━━━━━━━━━━━━\u001b[0m\u001b[37m\u001b[0m \u001b[1m1s\u001b[0m 2ms/step - loss: 0.0954 - val_loss: 0.1478\n",
      "Epoch 25/100\n",
      "\u001b[1m422/422\u001b[0m \u001b[32m━━━━━━━━━━━━━━━━━━━━\u001b[0m\u001b[37m\u001b[0m \u001b[1m1s\u001b[0m 2ms/step - loss: 0.0946 - val_loss: 0.1474\n",
      "Epoch 26/100\n",
      "\u001b[1m422/422\u001b[0m \u001b[32m━━━━━━━━━━━━━━━━━━━━\u001b[0m\u001b[37m\u001b[0m \u001b[1m1s\u001b[0m 2ms/step - loss: 0.0937 - val_loss: 0.1471\n",
      "Epoch 27/100\n",
      "\u001b[1m422/422\u001b[0m \u001b[32m━━━━━━━━━━━━━━━━━━━━\u001b[0m\u001b[37m\u001b[0m \u001b[1m1s\u001b[0m 2ms/step - loss: 0.0929 - val_loss: 0.1467\n",
      "Epoch 28/100\n",
      "\u001b[1m422/422\u001b[0m \u001b[32m━━━━━━━━━━━━━━━━━━━━\u001b[0m\u001b[37m\u001b[0m \u001b[1m1s\u001b[0m 2ms/step - loss: 0.0921 - val_loss: 0.1464\n",
      "Epoch 29/100\n",
      "\u001b[1m422/422\u001b[0m \u001b[32m━━━━━━━━━━━━━━━━━━━━\u001b[0m\u001b[37m\u001b[0m \u001b[1m1s\u001b[0m 2ms/step - loss: 0.0913 - val_loss: 0.1462\n",
      "Epoch 30/100\n",
      "\u001b[1m422/422\u001b[0m \u001b[32m━━━━━━━━━━━━━━━━━━━━\u001b[0m\u001b[37m\u001b[0m \u001b[1m1s\u001b[0m 2ms/step - loss: 0.0905 - val_loss: 0.1458\n",
      "Epoch 31/100\n",
      "\u001b[1m422/422\u001b[0m \u001b[32m━━━━━━━━━━━━━━━━━━━━\u001b[0m\u001b[37m\u001b[0m \u001b[1m1s\u001b[0m 2ms/step - loss: 0.0897 - val_loss: 0.1455\n",
      "Epoch 32/100\n",
      "\u001b[1m422/422\u001b[0m \u001b[32m━━━━━━━━━━━━━━━━━━━━\u001b[0m\u001b[37m\u001b[0m \u001b[1m1s\u001b[0m 2ms/step - loss: 0.0889 - val_loss: 0.1454\n",
      "Epoch 33/100\n",
      "\u001b[1m422/422\u001b[0m \u001b[32m━━━━━━━━━━━━━━━━━━━━\u001b[0m\u001b[37m\u001b[0m \u001b[1m1s\u001b[0m 2ms/step - loss: 0.0881 - val_loss: 0.1451\n",
      "Epoch 34/100\n",
      "\u001b[1m422/422\u001b[0m \u001b[32m━━━━━━━━━━━━━━━━━━━━\u001b[0m\u001b[37m\u001b[0m \u001b[1m1s\u001b[0m 2ms/step - loss: 0.0874 - val_loss: 0.1448\n",
      "Epoch 35/100\n",
      "\u001b[1m422/422\u001b[0m \u001b[32m━━━━━━━━━━━━━━━━━━━━\u001b[0m\u001b[37m\u001b[0m \u001b[1m1s\u001b[0m 2ms/step - loss: 0.0867 - val_loss: 0.1446\n",
      "Epoch 36/100\n",
      "\u001b[1m422/422\u001b[0m \u001b[32m━━━━━━━━━━━━━━━━━━━━\u001b[0m\u001b[37m\u001b[0m \u001b[1m1s\u001b[0m 2ms/step - loss: 0.0859 - val_loss: 0.1444\n",
      "Epoch 37/100\n",
      "\u001b[1m422/422\u001b[0m \u001b[32m━━━━━━━━━━━━━━━━━━━━\u001b[0m\u001b[37m\u001b[0m \u001b[1m1s\u001b[0m 2ms/step - loss: 0.0852 - val_loss: 0.1442\n",
      "Epoch 38/100\n",
      "\u001b[1m422/422\u001b[0m \u001b[32m━━━━━━━━━━━━━━━━━━━━\u001b[0m\u001b[37m\u001b[0m \u001b[1m1s\u001b[0m 2ms/step - loss: 0.0845 - val_loss: 0.1441\n",
      "Epoch 39/100\n",
      "\u001b[1m422/422\u001b[0m \u001b[32m━━━━━━━━━━━━━━━━━━━━\u001b[0m\u001b[37m\u001b[0m \u001b[1m1s\u001b[0m 2ms/step - loss: 0.0838 - val_loss: 0.1439\n",
      "Epoch 40/100\n",
      "\u001b[1m422/422\u001b[0m \u001b[32m━━━━━━━━━━━━━━━━━━━━\u001b[0m\u001b[37m\u001b[0m \u001b[1m1s\u001b[0m 2ms/step - loss: 0.0831 - val_loss: 0.1437\n",
      "Epoch 41/100\n",
      "\u001b[1m422/422\u001b[0m \u001b[32m━━━━━━━━━━━━━━━━━━━━\u001b[0m\u001b[37m\u001b[0m \u001b[1m1s\u001b[0m 2ms/step - loss: 0.0824 - val_loss: 0.1435\n",
      "Epoch 42/100\n",
      "\u001b[1m422/422\u001b[0m \u001b[32m━━━━━━━━━━━━━━━━━━━━\u001b[0m\u001b[37m\u001b[0m \u001b[1m1s\u001b[0m 2ms/step - loss: 0.0818 - val_loss: 0.1433\n",
      "Epoch 43/100\n",
      "\u001b[1m422/422\u001b[0m \u001b[32m━━━━━━━━━━━━━━━━━━━━\u001b[0m\u001b[37m\u001b[0m \u001b[1m1s\u001b[0m 2ms/step - loss: 0.0811 - val_loss: 0.1432\n",
      "Epoch 44/100\n",
      "\u001b[1m422/422\u001b[0m \u001b[32m━━━━━━━━━━━━━━━━━━━━\u001b[0m\u001b[37m\u001b[0m \u001b[1m1s\u001b[0m 2ms/step - loss: 0.0805 - val_loss: 0.1430\n",
      "Epoch 45/100\n",
      "\u001b[1m422/422\u001b[0m \u001b[32m━━━━━━━━━━━━━━━━━━━━\u001b[0m\u001b[37m\u001b[0m \u001b[1m1s\u001b[0m 2ms/step - loss: 0.0798 - val_loss: 0.1428\n",
      "Epoch 46/100\n",
      "\u001b[1m422/422\u001b[0m \u001b[32m━━━━━━━━━━━━━━━━━━━━\u001b[0m\u001b[37m\u001b[0m \u001b[1m1s\u001b[0m 1ms/step - loss: 0.0792 - val_loss: 0.1427\n",
      "Epoch 47/100\n",
      "\u001b[1m422/422\u001b[0m \u001b[32m━━━━━━━━━━━━━━━━━━━━\u001b[0m\u001b[37m\u001b[0m \u001b[1m1s\u001b[0m 1ms/step - loss: 0.0785 - val_loss: 0.1426\n",
      "Epoch 48/100\n",
      "\u001b[1m422/422\u001b[0m \u001b[32m━━━━━━━━━━━━━━━━━━━━\u001b[0m\u001b[37m\u001b[0m \u001b[1m1s\u001b[0m 1ms/step - loss: 0.0779 - val_loss: 0.1425\n",
      "Epoch 49/100\n",
      "\u001b[1m422/422\u001b[0m \u001b[32m━━━━━━━━━━━━━━━━━━━━\u001b[0m\u001b[37m\u001b[0m \u001b[1m1s\u001b[0m 1ms/step - loss: 0.0773 - val_loss: 0.1424\n",
      "Epoch 50/100\n",
      "\u001b[1m422/422\u001b[0m \u001b[32m━━━━━━━━━━━━━━━━━━━━\u001b[0m\u001b[37m\u001b[0m \u001b[1m1s\u001b[0m 1ms/step - loss: 0.0767 - val_loss: 0.1423\n",
      "Epoch 51/100\n",
      "\u001b[1m422/422\u001b[0m \u001b[32m━━━━━━━━━━━━━━━━━━━━\u001b[0m\u001b[37m\u001b[0m \u001b[1m1s\u001b[0m 1ms/step - loss: 0.0761 - val_loss: 0.1421\n",
      "Epoch 52/100\n",
      "\u001b[1m422/422\u001b[0m \u001b[32m━━━━━━━━━━━━━━━━━━━━\u001b[0m\u001b[37m\u001b[0m \u001b[1m1s\u001b[0m 1ms/step - loss: 0.0755 - val_loss: 0.1420\n",
      "Epoch 53/100\n",
      "\u001b[1m422/422\u001b[0m \u001b[32m━━━━━━━━━━━━━━━━━━━━\u001b[0m\u001b[37m\u001b[0m \u001b[1m1s\u001b[0m 1ms/step - loss: 0.0749 - val_loss: 0.1419\n",
      "Epoch 54/100\n",
      "\u001b[1m422/422\u001b[0m \u001b[32m━━━━━━━━━━━━━━━━━━━━\u001b[0m\u001b[37m\u001b[0m \u001b[1m1s\u001b[0m 1ms/step - loss: 0.0744 - val_loss: 0.1418\n",
      "Epoch 55/100\n",
      "\u001b[1m422/422\u001b[0m \u001b[32m━━━━━━━━━━━━━━━━━━━━\u001b[0m\u001b[37m\u001b[0m \u001b[1m1s\u001b[0m 1ms/step - loss: 0.0738 - val_loss: 0.1418\n",
      "Epoch 56/100\n",
      "\u001b[1m422/422\u001b[0m \u001b[32m━━━━━━━━━━━━━━━━━━━━\u001b[0m\u001b[37m\u001b[0m \u001b[1m1s\u001b[0m 1ms/step - loss: 0.0732 - val_loss: 0.1416\n",
      "Epoch 57/100\n",
      "\u001b[1m422/422\u001b[0m \u001b[32m━━━━━━━━━━━━━━━━━━━━\u001b[0m\u001b[37m\u001b[0m \u001b[1m1s\u001b[0m 1ms/step - loss: 0.0726 - val_loss: 0.1415\n",
      "Epoch 58/100\n",
      "\u001b[1m422/422\u001b[0m \u001b[32m━━━━━━━━━━━━━━━━━━━━\u001b[0m\u001b[37m\u001b[0m \u001b[1m1s\u001b[0m 1ms/step - loss: 0.0721 - val_loss: 0.1415\n",
      "Epoch 59/100\n",
      "\u001b[1m422/422\u001b[0m \u001b[32m━━━━━━━━━━━━━━━━━━━━\u001b[0m\u001b[37m\u001b[0m \u001b[1m1s\u001b[0m 1ms/step - loss: 0.0715 - val_loss: 0.1414\n",
      "Epoch 60/100\n",
      "\u001b[1m422/422\u001b[0m \u001b[32m━━━━━━━━━━━━━━━━━━━━\u001b[0m\u001b[37m\u001b[0m \u001b[1m1s\u001b[0m 1ms/step - loss: 0.0710 - val_loss: 0.1413\n",
      "Epoch 61/100\n",
      "\u001b[1m422/422\u001b[0m \u001b[32m━━━━━━━━━━━━━━━━━━━━\u001b[0m\u001b[37m\u001b[0m \u001b[1m1s\u001b[0m 2ms/step - loss: 0.0704 - val_loss: 0.1412\n",
      "Epoch 62/100\n",
      "\u001b[1m422/422\u001b[0m \u001b[32m━━━━━━━━━━━━━━━━━━━━\u001b[0m\u001b[37m\u001b[0m \u001b[1m1s\u001b[0m 2ms/step - loss: 0.0699 - val_loss: 0.1412\n",
      "Epoch 63/100\n",
      "\u001b[1m422/422\u001b[0m \u001b[32m━━━━━━━━━━━━━━━━━━━━\u001b[0m\u001b[37m\u001b[0m \u001b[1m1s\u001b[0m 2ms/step - loss: 0.0694 - val_loss: 0.1411\n",
      "Epoch 64/100\n",
      "\u001b[1m422/422\u001b[0m \u001b[32m━━━━━━━━━━━━━━━━━━━━\u001b[0m\u001b[37m\u001b[0m \u001b[1m1s\u001b[0m 1ms/step - loss: 0.0689 - val_loss: 0.1410\n",
      "Epoch 65/100\n",
      "\u001b[1m422/422\u001b[0m \u001b[32m━━━━━━━━━━━━━━━━━━━━\u001b[0m\u001b[37m\u001b[0m \u001b[1m1s\u001b[0m 1ms/step - loss: 0.0684 - val_loss: 0.1410\n",
      "Epoch 66/100\n",
      "\u001b[1m422/422\u001b[0m \u001b[32m━━━━━━━━━━━━━━━━━━━━\u001b[0m\u001b[37m\u001b[0m \u001b[1m1s\u001b[0m 1ms/step - loss: 0.0678 - val_loss: 0.1409\n",
      "Epoch 67/100\n",
      "\u001b[1m422/422\u001b[0m \u001b[32m━━━━━━━━━━━━━━━━━━━━\u001b[0m\u001b[37m\u001b[0m \u001b[1m1s\u001b[0m 2ms/step - loss: 0.0673 - val_loss: 0.1408\n",
      "Epoch 68/100\n",
      "\u001b[1m422/422\u001b[0m \u001b[32m━━━━━━━━━━━━━━━━━━━━\u001b[0m\u001b[37m\u001b[0m \u001b[1m1s\u001b[0m 1ms/step - loss: 0.0668 - val_loss: 0.1407\n",
      "Epoch 69/100\n",
      "\u001b[1m422/422\u001b[0m \u001b[32m━━━━━━━━━━━━━━━━━━━━\u001b[0m\u001b[37m\u001b[0m \u001b[1m1s\u001b[0m 2ms/step - loss: 0.0663 - val_loss: 0.1407\n",
      "Epoch 70/100\n",
      "\u001b[1m422/422\u001b[0m \u001b[32m━━━━━━━━━━━━━━━━━━━━\u001b[0m\u001b[37m\u001b[0m \u001b[1m1s\u001b[0m 2ms/step - loss: 0.0658 - val_loss: 0.1407\n",
      "Epoch 71/100\n",
      "\u001b[1m422/422\u001b[0m \u001b[32m━━━━━━━━━━━━━━━━━━━━\u001b[0m\u001b[37m\u001b[0m \u001b[1m1s\u001b[0m 1ms/step - loss: 0.0653 - val_loss: 0.1407\n",
      "Epoch 72/100\n",
      "\u001b[1m422/422\u001b[0m \u001b[32m━━━━━━━━━━━━━━━━━━━━\u001b[0m\u001b[37m\u001b[0m \u001b[1m1s\u001b[0m 1ms/step - loss: 0.0648 - val_loss: 0.1407\n",
      "Epoch 73/100\n",
      "\u001b[1m422/422\u001b[0m \u001b[32m━━━━━━━━━━━━━━━━━━━━\u001b[0m\u001b[37m\u001b[0m \u001b[1m1s\u001b[0m 1ms/step - loss: 0.0644 - val_loss: 0.1406\n",
      "Epoch 74/100\n",
      "\u001b[1m422/422\u001b[0m \u001b[32m━━━━━━━━━━━━━━━━━━━━\u001b[0m\u001b[37m\u001b[0m \u001b[1m1s\u001b[0m 1ms/step - loss: 0.0639 - val_loss: 0.1406\n",
      "Epoch 75/100\n",
      "\u001b[1m422/422\u001b[0m \u001b[32m━━━━━━━━━━━━━━━━━━━━\u001b[0m\u001b[37m\u001b[0m \u001b[1m1s\u001b[0m 1ms/step - loss: 0.0634 - val_loss: 0.1406\n",
      "Epoch 76/100\n",
      "\u001b[1m422/422\u001b[0m \u001b[32m━━━━━━━━━━━━━━━━━━━━\u001b[0m\u001b[37m\u001b[0m \u001b[1m1s\u001b[0m 1ms/step - loss: 0.0629 - val_loss: 0.1406\n"
     ]
    }
   ],
   "source": [
    "history = model.fit(x_train, y_train, validation_data=(x_valid,y_valid), epochs=100, batch_size= 128,callbacks=[early_stop]) # ponemos la llamada que creamos (ver más llamadas en documentación)\n",
    "# En este caso, en ninguna época se aumenta la pérdida con respecto a la época anterior, por lo que no se para el entrenamiento antes de las 50 épocas determinadas de base (50)\n",
    "# Pero vemos que si aumentamos las épocas bases a 100, se corta en la época 76 el entrenamiento, ya que el val_loss se estanca"
   ]
  },
  {
   "cell_type": "markdown",
   "metadata": {
    "colab_type": "text",
    "id": "4c0ucOhchGT2"
   },
   "source": [
    "<a id=\"section22\"></a>\n",
    "# <font color=\"#004D7F\" size=5> 2.2. Checkpoint</font>"
   ]
  },
  {
   "cell_type": "markdown",
   "metadata": {},
   "source": [
    "Veamos ahora como funciona Checkpoint. Recordemos que `ModelCheckpoint` nos permitía almacenar distintos estados del modelo conforme vaya avanzando el entrenamiento del modelo."
   ]
  },
  {
   "cell_type": "code",
   "execution_count": 26,
   "metadata": {
    "colab": {},
    "colab_type": "code",
    "id": "aM8GyaZknVvc"
   },
   "outputs": [],
   "source": [
    "# Y ahora los Checkpoints. Permite almacenar los distintos estados del modelo conforme se va entrenando\n",
    "# Podemos decirle que vaya guardando el modelo conforme las métricas del mismo vayan mejorando\n",
    "from keras.callbacks import ModelCheckpoint\n",
    "\n",
    "checkpoint = ModelCheckpoint(filepath='model.checkpoint/mnist_model_{epoch:02d}.keras') # le pedimos que me guarde el modelo con el número de época en formato keras(transformar de keras a h5) en la carpeta de checkpoint"
   ]
  },
  {
   "cell_type": "code",
   "execution_count": 27,
   "metadata": {
    "colab": {
     "base_uri": "https://localhost:8080/",
     "height": 382
    },
    "colab_type": "code",
    "executionInfo": {
     "elapsed": 17201,
     "status": "ok",
     "timestamp": 1554710272192,
     "user": {
      "displayName": "Fernando Rubio",
      "photoUrl": "",
      "userId": "13613469116164460032"
     },
     "user_tz": -120
    },
    "id": "y1ZaD_hlnt0Q",
    "outputId": "6715bc77-5e26-40e6-8ea3-0e2857b2baad"
   },
   "outputs": [
    {
     "name": "stdout",
     "output_type": "stream",
     "text": [
      "Epoch 1/10\n",
      "\u001b[1m422/422\u001b[0m \u001b[32m━━━━━━━━━━━━━━━━━━━━\u001b[0m\u001b[37m\u001b[0m \u001b[1m1s\u001b[0m 2ms/step - loss: 0.0625 - val_loss: 0.1406\n",
      "Epoch 2/10\n",
      "\u001b[1m422/422\u001b[0m \u001b[32m━━━━━━━━━━━━━━━━━━━━\u001b[0m\u001b[37m\u001b[0m \u001b[1m1s\u001b[0m 1ms/step - loss: 0.0620 - val_loss: 0.1405\n",
      "Epoch 3/10\n",
      "\u001b[1m422/422\u001b[0m \u001b[32m━━━━━━━━━━━━━━━━━━━━\u001b[0m\u001b[37m\u001b[0m \u001b[1m1s\u001b[0m 1ms/step - loss: 0.0616 - val_loss: 0.1405\n",
      "Epoch 4/10\n",
      "\u001b[1m422/422\u001b[0m \u001b[32m━━━━━━━━━━━━━━━━━━━━\u001b[0m\u001b[37m\u001b[0m \u001b[1m1s\u001b[0m 1ms/step - loss: 0.0611 - val_loss: 0.1405\n",
      "Epoch 5/10\n",
      "\u001b[1m422/422\u001b[0m \u001b[32m━━━━━━━━━━━━━━━━━━━━\u001b[0m\u001b[37m\u001b[0m \u001b[1m1s\u001b[0m 1ms/step - loss: 0.0607 - val_loss: 0.1405\n",
      "Epoch 6/10\n",
      "\u001b[1m422/422\u001b[0m \u001b[32m━━━━━━━━━━━━━━━━━━━━\u001b[0m\u001b[37m\u001b[0m \u001b[1m1s\u001b[0m 2ms/step - loss: 0.0603 - val_loss: 0.1405\n",
      "Epoch 7/10\n",
      "\u001b[1m422/422\u001b[0m \u001b[32m━━━━━━━━━━━━━━━━━━━━\u001b[0m\u001b[37m\u001b[0m \u001b[1m1s\u001b[0m 1ms/step - loss: 0.0598 - val_loss: 0.1405\n",
      "Epoch 8/10\n",
      "\u001b[1m422/422\u001b[0m \u001b[32m━━━━━━━━━━━━━━━━━━━━\u001b[0m\u001b[37m\u001b[0m \u001b[1m1s\u001b[0m 2ms/step - loss: 0.0594 - val_loss: 0.1405\n",
      "Epoch 9/10\n",
      "\u001b[1m422/422\u001b[0m \u001b[32m━━━━━━━━━━━━━━━━━━━━\u001b[0m\u001b[37m\u001b[0m \u001b[1m1s\u001b[0m 1ms/step - loss: 0.0590 - val_loss: 0.1404\n",
      "Epoch 10/10\n",
      "\u001b[1m422/422\u001b[0m \u001b[32m━━━━━━━━━━━━━━━━━━━━\u001b[0m\u001b[37m\u001b[0m \u001b[1m1s\u001b[0m 1ms/step - loss: 0.0586 - val_loss: 0.1405\n"
     ]
    }
   ],
   "source": [
    "history = model.fit(x_train, y_train, validation_data=(x_valid,y_valid), epochs=10, batch_size= 128,callbacks=[checkpoint])\n",
    "# Si vemos en la carpeta nos guarda el modelo entrenado para cada época\n",
    "# Se usa para hacer experimentos controlados con nuestra red"
   ]
  },
  {
   "cell_type": "markdown",
   "metadata": {},
   "source": [
    "---\n",
    "<div style=\"text-align: right\"> <font size=5> <a href=\"#indice\"><i class=\"fa fa-arrow-circle-up\" aria-hidden=\"true\" style=\"color:#004D7F\"></i></a></font></div>\n",
    "\n",
    "---"
   ]
  },
  {
   "cell_type": "markdown",
   "metadata": {
    "colab_type": "text",
    "id": "Fz1mAGcwlRZZ"
   },
   "source": [
    "<a id=\"section3\"></a>\n",
    "# <font color=\"#004D7F\" size=6>3. TensorBoard</font>"
   ]
  },
  {
   "cell_type": "markdown",
   "metadata": {
    "colab_type": "text",
    "id": "Fz1mAGcwlRZZ"
   },
   "source": [
    "`TensorBoard` es una herramienta muy potente de visualización desarrollada en conjunto con *TensorFlow*. Esta herramienta nos permite ver en tiempo real la evolución del entrenamiento de nuestras redes y nos permite detectar problemas o poder realizar optimizaciones.\n",
    "\n",
    "Desde *Keras* es posible generar los ficheros necesarios para la visualización del entrenamiento en `TensorBoard`. Esto se hace mediante otro `Callback`. \n",
    "\n",
    "Sin embargo, `TensorBoard` se visualiza a través del navegador, por lo que al estar trabajando en *Colab* es necesario hacer un tunel a la máquina donde esta alojado nuestro cuaderno. No vamos a entrar en detalles con esto, ya que solo afecta a *Colab*, pero os dejamos los comandos que se pueden copiar a cualquier otro *notebook* para poder conectar con `TensorBoard`."
   ]
  },
  {
   "cell_type": "markdown",
   "metadata": {},
   "source": [
    "<div class=\"alert alert-block alert-info\">\n",
    "    \n",
    "<i class=\"fa fa-info-circle\" aria-hidden=\"true\"></i>\n",
    "La curva de aprendizaje de esta herramienta es amplia por lo que no vamos a entrar en muchos detalles. Para más información ver la documentación oficial de [`TensorBoard`](https://www.tensorflow.org/tensorboard)"
   ]
  },
  {
   "cell_type": "markdown",
   "metadata": {},
   "source": [
    "<div class=\"alert alert-block alert-info\">\n",
    "    \n",
    "<i class=\"fa fa-info-circle\" aria-hidden=\"true\"></i>\n",
    "Tutorial para instalar [`TensorBoard`](https://www.dlology.com/blog/how-to-run-tensorboard-in-jupyter-notebook/)"
   ]
  },
  {
   "cell_type": "markdown",
   "metadata": {
    "colab_type": "text",
    "id": "phCkq9TZa7o5"
   },
   "source": [
    "<a id=\"section31\"></a>\n",
    "# <font color=\"#004D7F\" size=5>3.1. Instalación</font>"
   ]
  },
  {
   "cell_type": "markdown",
   "metadata": {},
   "source": [
    "----\n",
    "Para **Jupyter Notebook** podemos ejecutar en el mismo cuaderno o también en una pestaña nueva del navegador. \n",
    "\n",
    "Para verlo en una pestaña nueva hay que poner la dirección `http://localhost:6006` una vez cargado los *magic* como se indica a continuación."
   ]
  },
  {
   "cell_type": "code",
   "execution_count": 1,
   "metadata": {
    "scrolled": true
   },
   "outputs": [
    {
     "name": "stdout",
     "output_type": "stream",
     "text": [
      "Requirement already satisfied: tensorboard in c:\\programdata\\anaconda3\\lib\\site-packages (2.16.2)\n",
      "Requirement already satisfied: absl-py>=0.4 in c:\\programdata\\anaconda3\\lib\\site-packages (from tensorboard) (2.1.0)\n",
      "Requirement already satisfied: grpcio>=1.48.2 in c:\\programdata\\anaconda3\\lib\\site-packages (from tensorboard) (1.63.0)\n",
      "Requirement already satisfied: markdown>=2.6.8 in c:\\programdata\\anaconda3\\lib\\site-packages (from tensorboard) (3.4.1)\n",
      "Requirement already satisfied: numpy>=1.12.0 in c:\\programdata\\anaconda3\\lib\\site-packages (from tensorboard) (1.26.4)\n",
      "Requirement already satisfied: protobuf!=4.24.0,>=3.19.6 in c:\\programdata\\anaconda3\\lib\\site-packages (from tensorboard) (3.20.3)\n",
      "Requirement already satisfied: setuptools>=41.0.0 in c:\\programdata\\anaconda3\\lib\\site-packages (from tensorboard) (68.2.2)\n",
      "Requirement already satisfied: six>1.9 in c:\\programdata\\anaconda3\\lib\\site-packages (from tensorboard) (1.16.0)\n",
      "Requirement already satisfied: tensorboard-data-server<0.8.0,>=0.7.0 in c:\\programdata\\anaconda3\\lib\\site-packages (from tensorboard) (0.7.2)\n",
      "Requirement already satisfied: werkzeug>=1.0.1 in c:\\programdata\\anaconda3\\lib\\site-packages (from tensorboard) (2.2.3)\n",
      "Requirement already satisfied: MarkupSafe>=2.1.1 in c:\\programdata\\anaconda3\\lib\\site-packages (from werkzeug>=1.0.1->tensorboard) (2.1.3)\n"
     ]
    },
    {
     "data": {
      "text/html": [
       "\n",
       "      <iframe id=\"tensorboard-frame-76c4c8a592a4a3e5\" width=\"100%\" height=\"800\" frameborder=\"0\">\n",
       "      </iframe>\n",
       "      <script>\n",
       "        (function() {\n",
       "          const frame = document.getElementById(\"tensorboard-frame-76c4c8a592a4a3e5\");\n",
       "          const url = new URL(\"/\", window.location);\n",
       "          const port = 6006;\n",
       "          if (port) {\n",
       "            url.port = port;\n",
       "          }\n",
       "          frame.src = url;\n",
       "        })();\n",
       "      </script>\n",
       "    "
      ],
      "text/plain": [
       "<IPython.core.display.HTML object>"
      ]
     },
     "metadata": {},
     "output_type": "display_data"
    }
   ],
   "source": [
    "# TensorBoard nos permite ver la evolución del entrenamiento de nuestras redes y detectar problemas y optimizaciones a realizar\n",
    "# Se utiliza mediante callbacks en Jupyter (en Colab se debe hacer de una manera diferente). Ver más funcionalidades de TensorBoard en la documentación de TensorFlow\n",
    "import os\n",
    "#!pip install tensorboard\n",
    "%load_ext tensorboard\n",
    "\n",
    "LOG_DIR = './keras_log' # creamos una carpeta keras_log\n",
    "os.makedirs(LOG_DIR, exist_ok=True) # y cargamos los datos almacenados en TensorBoard en esa carpeta, utilizando un callback luego\n",
    "%tensorboard --logdir {LOG_DIR}\n",
    "\n",
    "# Como la visualización de TensorBoard en la libreta Jupyter es complicada, copiamos http://localhost:6006 y pegamos en url de una nueva pestaña para verlo desde allí"
   ]
  },
  {
   "cell_type": "markdown",
   "metadata": {
    "colab_type": "text",
    "id": "phCkq9TZa7o5"
   },
   "source": [
    "<a id=\"section32\"></a>\n",
    "# <font color=\"#004D7F\" size=5>3.2. Cargamos Tensorboard</font>"
   ]
  },
  {
   "cell_type": "markdown",
   "metadata": {},
   "source": [
    "Una vez cargada nuestra herramienta volvemos a crear nuestro modelo y le realizamos un callback para poder verlo en `TensorBoard`"
   ]
  },
  {
   "cell_type": "code",
   "execution_count": 2,
   "metadata": {
    "colab": {},
    "colab_type": "code",
    "id": "uXxGZVU9tTP3"
   },
   "outputs": [
    {
     "name": "stderr",
     "output_type": "stream",
     "text": [
      "C:\\ProgramData\\anaconda3\\Lib\\site-packages\\keras\\src\\layers\\core\\dense.py:87: UserWarning: Do not pass an `input_shape`/`input_dim` argument to a layer. When using Sequential models, prefer using an `Input(shape)` object as the first layer in the model instead.\n",
      "  super().__init__(activity_regularizer=activity_regularizer, **kwargs)\n"
     ]
    }
   ],
   "source": [
    "# Reiniciamos para ver que todo funciona correctamente (cargamos nuevamente nuestro modelo)\n",
    "\n",
    "from keras.models import Sequential\n",
    "from keras.layers import Dense, Activation\n",
    "\n",
    "model = Sequential()\n",
    "model.add(Dense(32, activation='relu', input_shape=(784,))) # Primera capa oculta\n",
    "model.add(Dense(32, activation='relu')) # Segunda capa oculta\n",
    "model.add(Dense(10, activation='softmax')) # Salida (10 clases)\n",
    "\n",
    "\n",
    "model.compile(loss='categorical_crossentropy', optimizer='sgd', metrics=['acc'])"
   ]
  },
  {
   "cell_type": "code",
   "execution_count": 8,
   "metadata": {
    "colab": {},
    "colab_type": "code",
    "id": "t8ltkBlUq2rx"
   },
   "outputs": [],
   "source": [
    "from keras.callbacks import TensorBoard\n",
    "\n",
    "board = TensorBoard(log_dir=LOG_DIR) # objeto que, además de usar TensorBoard, carga los archivos en la carpeta"
   ]
  },
  {
   "cell_type": "code",
   "execution_count": 10,
   "metadata": {
    "colab": {
     "base_uri": "https://localhost:8080/",
     "height": 1791
    },
    "colab_type": "code",
    "executionInfo": {
     "elapsed": 88267,
     "status": "ok",
     "timestamp": 1554710644028,
     "user": {
      "displayName": "Fernando Rubio",
      "photoUrl": "",
      "userId": "13613469116164460032"
     },
     "user_tz": -120
    },
    "id": "91DdoRD3tHAm",
    "outputId": "f88e5211-e971-4694-e499-948051cf1be9"
   },
   "outputs": [
    {
     "name": "stdout",
     "output_type": "stream",
     "text": [
      "Epoch 1/50\n",
      "\u001b[1m422/422\u001b[0m \u001b[32m━━━━━━━━━━━━━━━━━━━━\u001b[0m\u001b[37m\u001b[0m \u001b[1m1s\u001b[0m 3ms/step - acc: 0.9622 - loss: 0.1283 - val_acc: 0.9542 - val_loss: 0.1641\n",
      "Epoch 2/50\n",
      "\u001b[1m422/422\u001b[0m \u001b[32m━━━━━━━━━━━━━━━━━━━━\u001b[0m\u001b[37m\u001b[0m \u001b[1m1s\u001b[0m 2ms/step - acc: 0.9627 - loss: 0.1267 - val_acc: 0.9552 - val_loss: 0.1630\n",
      "Epoch 3/50\n",
      "\u001b[1m422/422\u001b[0m \u001b[32m━━━━━━━━━━━━━━━━━━━━\u001b[0m\u001b[37m\u001b[0m \u001b[1m1s\u001b[0m 2ms/step - acc: 0.9631 - loss: 0.1251 - val_acc: 0.9552 - val_loss: 0.1619\n",
      "Epoch 4/50\n",
      "\u001b[1m422/422\u001b[0m \u001b[32m━━━━━━━━━━━━━━━━━━━━\u001b[0m\u001b[37m\u001b[0m \u001b[1m1s\u001b[0m 2ms/step - acc: 0.9635 - loss: 0.1236 - val_acc: 0.9560 - val_loss: 0.1609\n",
      "Epoch 5/50\n",
      "\u001b[1m422/422\u001b[0m \u001b[32m━━━━━━━━━━━━━━━━━━━━\u001b[0m\u001b[37m\u001b[0m \u001b[1m1s\u001b[0m 3ms/step - acc: 0.9639 - loss: 0.1221 - val_acc: 0.9562 - val_loss: 0.1599\n",
      "Epoch 6/50\n",
      "\u001b[1m422/422\u001b[0m \u001b[32m━━━━━━━━━━━━━━━━━━━━\u001b[0m\u001b[37m\u001b[0m \u001b[1m1s\u001b[0m 2ms/step - acc: 0.9642 - loss: 0.1207 - val_acc: 0.9567 - val_loss: 0.1590\n",
      "Epoch 7/50\n",
      "\u001b[1m422/422\u001b[0m \u001b[32m━━━━━━━━━━━━━━━━━━━━\u001b[0m\u001b[37m\u001b[0m \u001b[1m1s\u001b[0m 2ms/step - acc: 0.9646 - loss: 0.1193 - val_acc: 0.9570 - val_loss: 0.1581\n",
      "Epoch 8/50\n",
      "\u001b[1m422/422\u001b[0m \u001b[32m━━━━━━━━━━━━━━━━━━━━\u001b[0m\u001b[37m\u001b[0m \u001b[1m1s\u001b[0m 2ms/step - acc: 0.9650 - loss: 0.1179 - val_acc: 0.9573 - val_loss: 0.1572\n",
      "Epoch 9/50\n",
      "\u001b[1m422/422\u001b[0m \u001b[32m━━━━━━━━━━━━━━━━━━━━\u001b[0m\u001b[37m\u001b[0m \u001b[1m1s\u001b[0m 2ms/step - acc: 0.9654 - loss: 0.1166 - val_acc: 0.9573 - val_loss: 0.1564\n",
      "Epoch 10/50\n",
      "\u001b[1m422/422\u001b[0m \u001b[32m━━━━━━━━━━━━━━━━━━━━\u001b[0m\u001b[37m\u001b[0m \u001b[1m1s\u001b[0m 2ms/step - acc: 0.9659 - loss: 0.1153 - val_acc: 0.9577 - val_loss: 0.1556\n",
      "Epoch 11/50\n",
      "\u001b[1m422/422\u001b[0m \u001b[32m━━━━━━━━━━━━━━━━━━━━\u001b[0m\u001b[37m\u001b[0m \u001b[1m1s\u001b[0m 2ms/step - acc: 0.9663 - loss: 0.1140 - val_acc: 0.9582 - val_loss: 0.1549\n",
      "Epoch 12/50\n",
      "\u001b[1m422/422\u001b[0m \u001b[32m━━━━━━━━━━━━━━━━━━━━\u001b[0m\u001b[37m\u001b[0m \u001b[1m1s\u001b[0m 2ms/step - acc: 0.9665 - loss: 0.1128 - val_acc: 0.9585 - val_loss: 0.1541\n",
      "Epoch 13/50\n",
      "\u001b[1m422/422\u001b[0m \u001b[32m━━━━━━━━━━━━━━━━━━━━\u001b[0m\u001b[37m\u001b[0m \u001b[1m1s\u001b[0m 2ms/step - acc: 0.9668 - loss: 0.1116 - val_acc: 0.9587 - val_loss: 0.1534\n",
      "Epoch 14/50\n",
      "\u001b[1m422/422\u001b[0m \u001b[32m━━━━━━━━━━━━━━━━━━━━\u001b[0m\u001b[37m\u001b[0m \u001b[1m1s\u001b[0m 2ms/step - acc: 0.9672 - loss: 0.1104 - val_acc: 0.9583 - val_loss: 0.1528\n",
      "Epoch 15/50\n",
      "\u001b[1m422/422\u001b[0m \u001b[32m━━━━━━━━━━━━━━━━━━━━\u001b[0m\u001b[37m\u001b[0m \u001b[1m1s\u001b[0m 2ms/step - acc: 0.9676 - loss: 0.1092 - val_acc: 0.9585 - val_loss: 0.1522\n",
      "Epoch 16/50\n",
      "\u001b[1m422/422\u001b[0m \u001b[32m━━━━━━━━━━━━━━━━━━━━\u001b[0m\u001b[37m\u001b[0m \u001b[1m1s\u001b[0m 2ms/step - acc: 0.9677 - loss: 0.1081 - val_acc: 0.9585 - val_loss: 0.1516\n",
      "Epoch 17/50\n",
      "\u001b[1m422/422\u001b[0m \u001b[32m━━━━━━━━━━━━━━━━━━━━\u001b[0m\u001b[37m\u001b[0m \u001b[1m1s\u001b[0m 2ms/step - acc: 0.9683 - loss: 0.1070 - val_acc: 0.9585 - val_loss: 0.1510\n",
      "Epoch 18/50\n",
      "\u001b[1m422/422\u001b[0m \u001b[32m━━━━━━━━━━━━━━━━━━━━\u001b[0m\u001b[37m\u001b[0m \u001b[1m1s\u001b[0m 2ms/step - acc: 0.9686 - loss: 0.1059 - val_acc: 0.9583 - val_loss: 0.1505\n",
      "Epoch 19/50\n",
      "\u001b[1m422/422\u001b[0m \u001b[32m━━━━━━━━━━━━━━━━━━━━\u001b[0m\u001b[37m\u001b[0m \u001b[1m1s\u001b[0m 2ms/step - acc: 0.9690 - loss: 0.1048 - val_acc: 0.9585 - val_loss: 0.1499\n",
      "Epoch 20/50\n",
      "\u001b[1m422/422\u001b[0m \u001b[32m━━━━━━━━━━━━━━━━━━━━\u001b[0m\u001b[37m\u001b[0m \u001b[1m1s\u001b[0m 2ms/step - acc: 0.9693 - loss: 0.1038 - val_acc: 0.9585 - val_loss: 0.1494\n",
      "Epoch 21/50\n",
      "\u001b[1m422/422\u001b[0m \u001b[32m━━━━━━━━━━━━━━━━━━━━\u001b[0m\u001b[37m\u001b[0m \u001b[1m1s\u001b[0m 2ms/step - acc: 0.9697 - loss: 0.1027 - val_acc: 0.9587 - val_loss: 0.1489\n",
      "Epoch 22/50\n",
      "\u001b[1m422/422\u001b[0m \u001b[32m━━━━━━━━━━━━━━━━━━━━\u001b[0m\u001b[37m\u001b[0m \u001b[1m1s\u001b[0m 2ms/step - acc: 0.9700 - loss: 0.1017 - val_acc: 0.9588 - val_loss: 0.1484\n",
      "Epoch 23/50\n",
      "\u001b[1m422/422\u001b[0m \u001b[32m━━━━━━━━━━━━━━━━━━━━\u001b[0m\u001b[37m\u001b[0m \u001b[1m1s\u001b[0m 2ms/step - acc: 0.9703 - loss: 0.1007 - val_acc: 0.9590 - val_loss: 0.1480\n",
      "Epoch 24/50\n",
      "\u001b[1m422/422\u001b[0m \u001b[32m━━━━━━━━━━━━━━━━━━━━\u001b[0m\u001b[37m\u001b[0m \u001b[1m1s\u001b[0m 2ms/step - acc: 0.9706 - loss: 0.0998 - val_acc: 0.9588 - val_loss: 0.1476\n",
      "Epoch 25/50\n",
      "\u001b[1m422/422\u001b[0m \u001b[32m━━━━━━━━━━━━━━━━━━━━\u001b[0m\u001b[37m\u001b[0m \u001b[1m1s\u001b[0m 2ms/step - acc: 0.9708 - loss: 0.0988 - val_acc: 0.9590 - val_loss: 0.1471\n",
      "Epoch 26/50\n",
      "\u001b[1m422/422\u001b[0m \u001b[32m━━━━━━━━━━━━━━━━━━━━\u001b[0m\u001b[37m\u001b[0m \u001b[1m1s\u001b[0m 2ms/step - acc: 0.9712 - loss: 0.0979 - val_acc: 0.9590 - val_loss: 0.1467\n",
      "Epoch 27/50\n",
      "\u001b[1m422/422\u001b[0m \u001b[32m━━━━━━━━━━━━━━━━━━━━\u001b[0m\u001b[37m\u001b[0m \u001b[1m1s\u001b[0m 2ms/step - acc: 0.9714 - loss: 0.0970 - val_acc: 0.9590 - val_loss: 0.1463\n",
      "Epoch 28/50\n",
      "\u001b[1m422/422\u001b[0m \u001b[32m━━━━━━━━━━━━━━━━━━━━\u001b[0m\u001b[37m\u001b[0m \u001b[1m1s\u001b[0m 2ms/step - acc: 0.9716 - loss: 0.0961 - val_acc: 0.9593 - val_loss: 0.1459\n",
      "Epoch 29/50\n",
      "\u001b[1m422/422\u001b[0m \u001b[32m━━━━━━━━━━━━━━━━━━━━\u001b[0m\u001b[37m\u001b[0m \u001b[1m1s\u001b[0m 2ms/step - acc: 0.9717 - loss: 0.0952 - val_acc: 0.9597 - val_loss: 0.1456\n",
      "Epoch 30/50\n",
      "\u001b[1m422/422\u001b[0m \u001b[32m━━━━━━━━━━━━━━━━━━━━\u001b[0m\u001b[37m\u001b[0m \u001b[1m1s\u001b[0m 2ms/step - acc: 0.9720 - loss: 0.0944 - val_acc: 0.9597 - val_loss: 0.1452\n",
      "Epoch 31/50\n",
      "\u001b[1m422/422\u001b[0m \u001b[32m━━━━━━━━━━━━━━━━━━━━\u001b[0m\u001b[37m\u001b[0m \u001b[1m1s\u001b[0m 2ms/step - acc: 0.9725 - loss: 0.0935 - val_acc: 0.9598 - val_loss: 0.1448\n",
      "Epoch 32/50\n",
      "\u001b[1m422/422\u001b[0m \u001b[32m━━━━━━━━━━━━━━━━━━━━\u001b[0m\u001b[37m\u001b[0m \u001b[1m1s\u001b[0m 2ms/step - acc: 0.9730 - loss: 0.0927 - val_acc: 0.9597 - val_loss: 0.1445\n",
      "Epoch 33/50\n",
      "\u001b[1m422/422\u001b[0m \u001b[32m━━━━━━━━━━━━━━━━━━━━\u001b[0m\u001b[37m\u001b[0m \u001b[1m1s\u001b[0m 2ms/step - acc: 0.9731 - loss: 0.0919 - val_acc: 0.9600 - val_loss: 0.1442\n",
      "Epoch 34/50\n",
      "\u001b[1m422/422\u001b[0m \u001b[32m━━━━━━━━━━━━━━━━━━━━\u001b[0m\u001b[37m\u001b[0m \u001b[1m1s\u001b[0m 2ms/step - acc: 0.9733 - loss: 0.0911 - val_acc: 0.9598 - val_loss: 0.1438\n",
      "Epoch 35/50\n",
      "\u001b[1m422/422\u001b[0m \u001b[32m━━━━━━━━━━━━━━━━━━━━\u001b[0m\u001b[37m\u001b[0m \u001b[1m1s\u001b[0m 2ms/step - acc: 0.9735 - loss: 0.0903 - val_acc: 0.9602 - val_loss: 0.1435\n",
      "Epoch 36/50\n",
      "\u001b[1m422/422\u001b[0m \u001b[32m━━━━━━━━━━━━━━━━━━━━\u001b[0m\u001b[37m\u001b[0m \u001b[1m1s\u001b[0m 2ms/step - acc: 0.9739 - loss: 0.0896 - val_acc: 0.9598 - val_loss: 0.1433\n",
      "Epoch 37/50\n",
      "\u001b[1m422/422\u001b[0m \u001b[32m━━━━━━━━━━━━━━━━━━━━\u001b[0m\u001b[37m\u001b[0m \u001b[1m1s\u001b[0m 2ms/step - acc: 0.9742 - loss: 0.0888 - val_acc: 0.9598 - val_loss: 0.1430\n",
      "Epoch 38/50\n",
      "\u001b[1m422/422\u001b[0m \u001b[32m━━━━━━━━━━━━━━━━━━━━\u001b[0m\u001b[37m\u001b[0m \u001b[1m1s\u001b[0m 2ms/step - acc: 0.9744 - loss: 0.0880 - val_acc: 0.9600 - val_loss: 0.1427\n",
      "Epoch 39/50\n",
      "\u001b[1m422/422\u001b[0m \u001b[32m━━━━━━━━━━━━━━━━━━━━\u001b[0m\u001b[37m\u001b[0m \u001b[1m1s\u001b[0m 2ms/step - acc: 0.9748 - loss: 0.0873 - val_acc: 0.9602 - val_loss: 0.1424\n",
      "Epoch 40/50\n",
      "\u001b[1m422/422\u001b[0m \u001b[32m━━━━━━━━━━━━━━━━━━━━\u001b[0m\u001b[37m\u001b[0m \u001b[1m1s\u001b[0m 2ms/step - acc: 0.9751 - loss: 0.0866 - val_acc: 0.9605 - val_loss: 0.1421\n",
      "Epoch 41/50\n",
      "\u001b[1m422/422\u001b[0m \u001b[32m━━━━━━━━━━━━━━━━━━━━\u001b[0m\u001b[37m\u001b[0m \u001b[1m1s\u001b[0m 2ms/step - acc: 0.9752 - loss: 0.0859 - val_acc: 0.9605 - val_loss: 0.1418\n",
      "Epoch 42/50\n",
      "\u001b[1m422/422\u001b[0m \u001b[32m━━━━━━━━━━━━━━━━━━━━\u001b[0m\u001b[37m\u001b[0m \u001b[1m1s\u001b[0m 2ms/step - acc: 0.9754 - loss: 0.0851 - val_acc: 0.9605 - val_loss: 0.1415\n",
      "Epoch 43/50\n",
      "\u001b[1m422/422\u001b[0m \u001b[32m━━━━━━━━━━━━━━━━━━━━\u001b[0m\u001b[37m\u001b[0m \u001b[1m1s\u001b[0m 2ms/step - acc: 0.9756 - loss: 0.0844 - val_acc: 0.9603 - val_loss: 0.1412\n",
      "Epoch 44/50\n",
      "\u001b[1m422/422\u001b[0m \u001b[32m━━━━━━━━━━━━━━━━━━━━\u001b[0m\u001b[37m\u001b[0m \u001b[1m1s\u001b[0m 2ms/step - acc: 0.9757 - loss: 0.0838 - val_acc: 0.9603 - val_loss: 0.1410\n",
      "Epoch 45/50\n",
      "\u001b[1m422/422\u001b[0m \u001b[32m━━━━━━━━━━━━━━━━━━━━\u001b[0m\u001b[37m\u001b[0m \u001b[1m1s\u001b[0m 2ms/step - acc: 0.9760 - loss: 0.0831 - val_acc: 0.9605 - val_loss: 0.1407\n",
      "Epoch 46/50\n",
      "\u001b[1m422/422\u001b[0m \u001b[32m━━━━━━━━━━━━━━━━━━━━\u001b[0m\u001b[37m\u001b[0m \u001b[1m1s\u001b[0m 2ms/step - acc: 0.9763 - loss: 0.0824 - val_acc: 0.9605 - val_loss: 0.1405\n",
      "Epoch 47/50\n",
      "\u001b[1m422/422\u001b[0m \u001b[32m━━━━━━━━━━━━━━━━━━━━\u001b[0m\u001b[37m\u001b[0m \u001b[1m1s\u001b[0m 2ms/step - acc: 0.9765 - loss: 0.0818 - val_acc: 0.9608 - val_loss: 0.1403\n",
      "Epoch 48/50\n",
      "\u001b[1m422/422\u001b[0m \u001b[32m━━━━━━━━━━━━━━━━━━━━\u001b[0m\u001b[37m\u001b[0m \u001b[1m1s\u001b[0m 2ms/step - acc: 0.9766 - loss: 0.0811 - val_acc: 0.9607 - val_loss: 0.1400\n",
      "Epoch 49/50\n",
      "\u001b[1m422/422\u001b[0m \u001b[32m━━━━━━━━━━━━━━━━━━━━\u001b[0m\u001b[37m\u001b[0m \u001b[1m1s\u001b[0m 2ms/step - acc: 0.9768 - loss: 0.0805 - val_acc: 0.9610 - val_loss: 0.1398\n",
      "Epoch 50/50\n",
      "\u001b[1m422/422\u001b[0m \u001b[32m━━━━━━━━━━━━━━━━━━━━\u001b[0m\u001b[37m\u001b[0m \u001b[1m1s\u001b[0m 2ms/step - acc: 0.9770 - loss: 0.0799 - val_acc: 0.9608 - val_loss: 0.1395\n"
     ]
    }
   ],
   "source": [
    "# Realizamos el entrenamiento y realizamos un callback para poder ver el modelo en TensorBoard\n",
    "tf.profiler.experimental.stop\n",
    "\n",
    "history = model.fit(x_train, y_train, validation_data=(x_valid,y_valid), epochs=50, batch_size= 128,callbacks=[board])\n",
    "\n",
    "# Si actualizamos el TensorBoard, me aparece el progreso en las épocas\n",
    "# Smothing es el suavizado, la parte de Graphs es como se construyó el grafo de cada una de las capas (pudiendo incluso configurarlo)\n",
    "# Podemos visualizar la evolución de la pérdida y el accuracy de los datos de entrenamiento y validación (se nos guardan en la carpeta)"
   ]
  },
  {
   "cell_type": "markdown",
   "metadata": {
    "colab_type": "text",
    "id": "pYbgOWwH19bI"
   },
   "source": [
    "---\n",
    "<div style=\"text-align: right\"> <font size=5> <a href=\"#indice\"><i class=\"fa fa-arrow-circle-up\" aria-hidden=\"true\" style=\"color:#004D7F\"></i></a></font></div>\n",
    "\n",
    "---\n",
    "\n",
    "<div style=\"text-align: right\"> <font size=6><i class=\"fa fa-coffee\" aria-hidden=\"true\" style=\"color:#004D7F\"></i> </font></div>"
   ]
  }
 ],
 "metadata": {
  "accelerator": "GPU",
  "colab": {
   "collapsed_sections": [],
   "name": "Modulo8-TrabajoGuiado-TecnicasRedes.ipynb",
   "provenance": [],
   "toc_visible": true,
   "version": "0.3.2"
  },
  "kernelspec": {
   "display_name": "Python 3 (ipykernel)",
   "language": "python",
   "name": "python3"
  },
  "language_info": {
   "codemirror_mode": {
    "name": "ipython",
    "version": 3
   },
   "file_extension": ".py",
   "mimetype": "text/x-python",
   "name": "python",
   "nbconvert_exporter": "python",
   "pygments_lexer": "ipython3",
   "version": "3.11.7"
  }
 },
 "nbformat": 4,
 "nbformat_minor": 4
}
